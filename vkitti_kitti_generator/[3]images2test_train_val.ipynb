{
 "cells": [
  {
   "cell_type": "code",
   "execution_count": 1,
   "metadata": {},
   "outputs": [],
   "source": [
    "import os\n",
    "import splitfolders\n",
    "import shutil\n",
    "\n",
    "vkitti_path = '/usr/src/datasets/kitti_vkitti/'"
   ]
  },
  {
   "cell_type": "code",
   "execution_count": 2,
   "metadata": {},
   "outputs": [
    {
     "name": "stderr",
     "output_type": "stream",
     "text": [
      "Copying files: 2126 files [00:04, 496.02 files/s]\n"
     ]
    }
   ],
   "source": [
    "#split train test val\n",
    "splitfolders.ratio(vkitti_path+'images/', output=vkitti_path, seed=2022, ratio=(.8, 0.1,0.1))"
   ]
  },
  {
   "cell_type": "code",
   "execution_count": 3,
   "metadata": {},
   "outputs": [],
   "source": [
    "## labels directory 만들어주기\n",
    "pass_list = ['train/labels', 'test/labels', 'val/labels',]\n",
    "\n",
    "for path in pass_list:\n",
    "    os.mkdir(vkitti_path+path)"
   ]
  },
  {
   "cell_type": "code",
   "execution_count": 4,
   "metadata": {},
   "outputs": [],
   "source": [
    "# txt 2 train test val mv\n",
    "\n",
    "label_list = os.listdir(vkitti_path+'labels')\n",
    "\n",
    "#train\n",
    "path_list = os.listdir(vkitti_path+'test/images')\n",
    "\n",
    "for filename in path_list:\n",
    "    if filename[:-4]+'.txt' in label_list:\n",
    "        os.symlink(vkitti_path+'labels/'+filename[:-4]+'.txt',\n",
    "                    vkitti_path+'test/labels/'+filename[:-4]+'.txt')\n",
    "\n"
   ]
  },
  {
   "cell_type": "code",
   "execution_count": 5,
   "metadata": {},
   "outputs": [],
   "source": [
    "#test\n",
    "path_list = os.listdir(vkitti_path+'train/images')\n",
    "\n",
    "for filename in path_list:\n",
    "    if filename[:-4]+'.txt' in label_list:\n",
    "        os.symlink(vkitti_path+'labels/'+filename[:-4]+'.txt',\n",
    "                    vkitti_path+'train/labels/'+filename[:-4]+'.txt')"
   ]
  },
  {
   "cell_type": "code",
   "execution_count": 6,
   "metadata": {},
   "outputs": [],
   "source": [
    "#val\n",
    "path_list = os.listdir(vkitti_path+'val/images')\n",
    "\n",
    "for filename in path_list:\n",
    "    if filename[:-4]+'.txt' in label_list:\n",
    "        os.symlink(vkitti_path+'labels/'+filename[:-4]+'.txt',\n",
    "                    vkitti_path+'val/labels/'+filename[:-4]+'.txt')"
   ]
  },
  {
   "cell_type": "code",
   "execution_count": 2,
   "metadata": {},
   "outputs": [],
   "source": [
    "\n",
    "os.environ['CUDA_VISIBLE_DEVICES'] = '0' \n",
    "\n",
    "import torch\n",
    "torch.cuda.empty_cache()\n",
    "\n",
    "# python train.py  --img 1280  --batch 4 --epochs 300 --data '../datasets/kitti_vkitti.yaml' --cfg 'yolov5l6.yaml' --weights 'yolov5l6.pt' --name 'kitti_vkitti_l6'"
   ]
  }
 ],
 "metadata": {
  "interpreter": {
   "hash": "d4d1e4263499bec80672ea0156c357c1ee493ec2b1c70f0acce89fc37c4a6abe"
  },
  "kernelspec": {
   "display_name": "Python 3.8.13 ('base')",
   "language": "python",
   "name": "python3"
  },
  "language_info": {
   "codemirror_mode": {
    "name": "ipython",
    "version": 3
   },
   "file_extension": ".py",
   "mimetype": "text/x-python",
   "name": "python",
   "nbconvert_exporter": "python",
   "pygments_lexer": "ipython3",
   "version": "3.8.13"
  },
  "orig_nbformat": 4
 },
 "nbformat": 4,
 "nbformat_minor": 2
}
