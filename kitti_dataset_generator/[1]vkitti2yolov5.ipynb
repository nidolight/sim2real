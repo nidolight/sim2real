{
 "cells": [
  {
   "cell_type": "code",
   "execution_count": 9,
   "metadata": {},
   "outputs": [],
   "source": [
    "import pandas as pd\n",
    "import os\n",
    "import shutil\n",
    "\n",
    "IMAGE_SIZE = (1242, 375)"
   ]
  },
  {
   "cell_type": "code",
   "execution_count": 10,
   "metadata": {},
   "outputs": [],
   "source": [
    "def convert(bbox_path,save_path):\n",
    "    #파일 불러오기\n",
    "    df = pd.read_csv(bbox_path, sep=\" \", header=None)\n",
    "    df = df.drop([1,3,4,5,10,11, 12, 13, 14,15,16], axis=1)\n",
    "\n",
    "    # vkitti: l r t b : 3,4,5,6\n",
    "    # kitti: l t r b : 6,7,8,9\n",
    "    #kitti2yolo format 변환\n",
    "    df['x'] = ((df[6].astype(int) + df[8].astype(int))/2.0) * (1./IMAGE_SIZE[0])\n",
    "    df['y'] = ((df[7].astype(int) + df[9].astype(int))/2.0) * (1./IMAGE_SIZE[1])\n",
    "    df['w'] = (df[8].astype(int) - df[6].astype(int)) * (1./IMAGE_SIZE[0])\n",
    "    df['h'] = (df[9].astype(int) - df[7].astype(int)) * (1./IMAGE_SIZE[1])\n",
    "    df = df.drop([6, 7, 8, 9], axis=1)\n",
    "    \n",
    "    #classNo 변환 (Car : 0, Van : 1, Truck : 2)\n",
    "    df.loc[df[2] == 'Car','classNo'] = '0'\n",
    "    df.loc[df[2] == 'Van','classNo'] = '1'\n",
    "    df.loc[df[2] == 'Truck','classNo'] = '2'\n",
    "\n",
    "    df[2] = df['classNo']\n",
    "    df = df.drop(['classNo'], axis=1)\n",
    "    df = df.dropna(axis=0)\n",
    "\n",
    "    frames = []\n",
    "    for i in range(int(df.loc[df.tail(1).index][0])+1):\n",
    "        tmp = df[df[0] == i]\n",
    "        tmp = tmp.drop([0],axis = 1)\n",
    "        frames.append(tmp)\n",
    "    \n",
    "    # df 저장 scene[4] + frame[6]\n",
    "    for i, frame in enumerate(frames):\n",
    "        index = str(i).zfill(6)\n",
    "        frame.to_csv('{}{}{}.txt'.format(save_path,os.path.basename(bbox_path)[:4],index), \n",
    "                    sep=' ', header=False, index=False)"
   ]
  },
  {
   "cell_type": "code",
   "execution_count": 14,
   "metadata": {},
   "outputs": [
    {
     "name": "stdout",
     "output_type": "stream",
     "text": [
      "scene 0001 converted to yolov5 format\n",
      "scene 0002 converted to yolov5 format\n",
      "scene 0006 converted to yolov5 format\n",
      "scene 0018 converted to yolov5 format\n",
      "scene 0020 converted to yolov5 format\n"
     ]
    }
   ],
   "source": [
    "data_path = '/usr/src/datasets/raw_kitti/raw_kitti_bbox/'\n",
    "save_bbox_path = '/usr/src/datasets/kitti2015/labels/'\n",
    "\n",
    "if os.path.exists(save_bbox_path):\n",
    "    shutil.rmtree(save_bbox_path)\n",
    "os.mkdir(save_bbox_path)\n",
    "\n",
    "sList = ['0001.txt','0002.txt','0006.txt','0018.txt','0020.txt']\n",
    "for scene in sList:\n",
    "    convert(data_path+scene,save_bbox_path)\n",
    "    print('scene '+scene[:4]+' converted to yolov5 format')"
   ]
  }
 ],
 "metadata": {
  "interpreter": {
   "hash": "d4d1e4263499bec80672ea0156c357c1ee493ec2b1c70f0acce89fc37c4a6abe"
  },
  "kernelspec": {
   "display_name": "Python 3.8.13 ('base')",
   "language": "python",
   "name": "python3"
  },
  "language_info": {
   "codemirror_mode": {
    "name": "ipython",
    "version": 3
   },
   "file_extension": ".py",
   "mimetype": "text/x-python",
   "name": "python",
   "nbconvert_exporter": "python",
   "pygments_lexer": "ipython3",
   "version": "3.8.13"
  },
  "orig_nbformat": 4
 },
 "nbformat": 4,
 "nbformat_minor": 2
}
