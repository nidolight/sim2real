{
 "cells": [
  {
   "cell_type": "code",
   "execution_count": 1,
   "metadata": {},
   "outputs": [],
   "source": [
    "import os\n"
   ]
  },
  {
   "cell_type": "code",
   "execution_count": 31,
   "metadata": {},
   "outputs": [
    {
     "name": "stdout",
     "output_type": "stream",
     "text": [
      "31728 22971\n"
     ]
    }
   ],
   "source": [
    "tmp = os.listdir(\n",
    "    r'C:\\Users\\junho\\Desktop\\cycleGAN\\bdd_type_of_time_dataset\\daytime')\n",
    "tmp2 = os.listdir(\n",
    "    r'C:\\Users\\junho\\Desktop\\cycleGAN\\bdd_type_of_time_dataset\\night')\n",
    "    \n",
    "print(len(tmp), len(tmp2))\n",
    "\n",
    "#이미지 갯수 노상관\n"
   ]
  },
  {
   "cell_type": "code",
   "execution_count": 40,
   "metadata": {},
   "outputs": [],
   "source": [
    "import json\n",
    "\n",
    "#label open\n",
    "train_label_path = r'C:\\Users\\junho\\Desktop\\cycleGAN\\bdd100k\\labels\\bdd100k_labels_images_train.json'\n",
    "with open(train_label_path) as f :\n",
    "    train_json = json.load(f)\n",
    "\n",
    "#train_json[0]\n",
    "\n",
    "#시간 카테고리 별로 분류, 값은 json list의 enumerate한 값 (이미지 number)\n",
    "type_of_time= ['daytime','night','dawn/dusk','undefined']\n",
    "type_of_img ={}\n",
    "\n",
    "for time in type_of_time :\n",
    "    type_of_img[time] =[]\n",
    "\n",
    "\n",
    "for num, img_data in enumerate( train_json) :\n",
    "    time =img_data['attributes']['timeofday']\n",
    "    type_of_img[time].append(num)\n",
    "\n",
    "\n",
    "#분류할 디렉토리 만들기 \n",
    "def createDirectory(directory):\n",
    "    if not os.path.exists(directory):\n",
    "        os.makedirs(directory)\n",
    "\n",
    "raw_bdd_train_path = r'C:\\Users\\junho\\Desktop\\cycleGAN\\bdd100k\\images\\100k\\train\\\\'\n",
    "classfication_path = r'C:\\Users\\junho\\Desktop\\cycleGAN\\bdd_day_night\\\\'\n",
    "for time in type_of_time :\n",
    "    createDirectory(classfication_path+time+'\\\\')\n",
    "\n",
    "\n",
    "#syimbolic linked\n",
    "for type in type_of_img :\n",
    "    for img_num in type_of_img[type] :\n",
    "        src = raw_bdd_train_path+train_json[img_num]['name']\n",
    "        dst = classfication_path+type+'\\\\'+train_json[img_num]['name']\n",
    "        os.symlink(src, dst)\n"
   ]
  },
  {
   "cell_type": "code",
   "execution_count": 2,
   "metadata": {},
   "outputs": [],
   "source": [
    "import random \n",
    "#36728 27971\n",
    "\n",
    "random.seed(2022) #시드\n",
    "#분리할 파일 경로\n",
    "classfication_path = r'C:\\Users\\junho\\Desktop\\cycleGAN\\bdd_type_of_time_dataset'\n",
    "img_num =500 #이미지 개수\n",
    "day_random=[] #낮 이미지 리스트\n",
    "night_random= [] #밤 이미지 리스트\n",
    "\n",
    "while True :# 중복안되게 5000장의 이미지에 대한 숫자\n",
    "    day_random.append(random.randint(0,36728))\n",
    "    if len(day_random)==img_num :\n",
    "        set_rand = set(day_random)\n",
    "        if len(set_rand) == img_num :\n",
    "            break\n",
    "        else :\n",
    "            day_random=list(set_rand)\n"
   ]
  },
  {
   "cell_type": "code",
   "execution_count": 3,
   "metadata": {},
   "outputs": [
    {
     "name": "stdout",
     "output_type": "stream",
     "text": [
      "500\n"
     ]
    }
   ],
   "source": [
    "print(len(day_random))"
   ]
  },
  {
   "cell_type": "code",
   "execution_count": 4,
   "metadata": {},
   "outputs": [],
   "source": [
    "while True :# 이건 밤\n",
    "    night_random.append(random.randint(0,27971))\n",
    "    if len(night_random)==img_num :\n",
    "        set_rand = set(night_random)\n",
    "        if len(set_rand) == img_num :\n",
    "            break\n",
    "        else :\n",
    "            night_random=list(set_rand)"
   ]
  },
  {
   "cell_type": "code",
   "execution_count": 5,
   "metadata": {},
   "outputs": [],
   "source": [
    "#심볼릭 링크 파일에 대한 경로들을 정렬\n",
    "daytime_path = r'C:\\Users\\junho\\Desktop\\cycleGAN\\bdd_day_night\\daytime'\n",
    "daytime_list = os.listdir(daytime_path)\n",
    "daytime_list.sort()\n",
    "night_path = r'C:\\Users\\junho\\Desktop\\cycleGAN\\bdd_day_night\\night'\n",
    "night_list= os.listdir(night_path)\n",
    "night_list.sort()\n",
    "\n"
   ]
  },
  {
   "cell_type": "code",
   "execution_count": 7,
   "metadata": {},
   "outputs": [],
   "source": [
    "import shutil\n",
    "daytime_dst = r'C:\\Users\\junho\\Desktop\\cycleGAN\\pytorch-CycleGAN-and-pix2pix\\datasets\\bdd_day_night\\trainA'\n",
    "nighttime_dst = r'C:\\Users\\junho\\Desktop\\cycleGAN\\pytorch-CycleGAN-and-pix2pix\\datasets\\bdd_day_night\\trainB'\n",
    " \n",
    " \n",
    "for daytime,night in zip(day_random,night_random):\n",
    "    shutil.copy(daytime_path+ '\\\\'+daytime_list[daytime], daytime_dst)\n",
    "    shutil.copy(night_path+'\\\\'+ night_list[night], nighttime_dst)"
   ]
  },
  {
   "cell_type": "code",
   "execution_count": 8,
   "metadata": {},
   "outputs": [
    {
     "data": {
      "text/plain": [
       "500"
      ]
     },
     "execution_count": 8,
     "metadata": {},
     "output_type": "execute_result"
    }
   ],
   "source": [
    "len(os.listdir(daytime_dst))\n"
   ]
  }
 ],
 "metadata": {
  "interpreter": {
   "hash": "eb099d7913d3801f682a525b6de8f749fa35a649ec45f22362047d94f2f8da6c"
  },
  "kernelspec": {
   "display_name": "Python 3.9.6 ('tensorflow')",
   "language": "python",
   "name": "python3"
  },
  "language_info": {
   "codemirror_mode": {
    "name": "ipython",
    "version": 3
   },
   "file_extension": ".py",
   "mimetype": "text/x-python",
   "name": "python",
   "nbconvert_exporter": "python",
   "pygments_lexer": "ipython3",
   "version": "3.9.12"
  },
  "orig_nbformat": 4
 },
 "nbformat": 4,
 "nbformat_minor": 2
}
