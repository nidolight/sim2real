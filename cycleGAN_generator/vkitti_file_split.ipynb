{
 "cells": [
  {
   "cell_type": "code",
   "execution_count": 3,
   "metadata": {},
   "outputs": [],
   "source": [
    "import os\n",
    "import shutil"
   ]
  },
  {
   "cell_type": "code",
   "execution_count": 6,
   "metadata": {},
   "outputs": [],
   "source": [
    "vkitti_raw_path = r'C:\\Users\\junho\\Desktop\\cycleGAN\\vkitti_2.0.3_rgb'\n",
    "scene_list = os.listdir(vkitti_raw_path)\n",
    "detail_path = r'\\clone\\frames\\rgb\\testA'\n",
    "\n",
    "\n",
    "img_paths = []  # scene 당 이미지 경로들의 모음\n",
    "for scene in scene_list:\n",
    "    # rawpath + scene + img_path => clone의 scene 당 이미지 디렉토리의 경로\n",
    "    img_path = vkitti_raw_path+'/'+scene+detail_path\n",
    "    img_list = os.listdir(img_path)  # 이미지 이름 저장\n",
    "    img_list.sort()\n",
    "    for i, img in enumerate(img_list):  # 이미지 디렉토리 경로 + 이미지 이름 => 최종 이미지 경로\n",
    "        img_list[i] = img_path + '\\\\'+ img\n",
    "    img_paths.append(img_list)\n",
    "\n",
    "#img_paths[0] => scene 0\n",
    "\n",
    "for scene_num, img_path in enumerate(img_paths):  # scene for문\n",
    "    space_num = int(len(img_path)/100)\n",
    "    for img_num, img in enumerate(img_path[::space_num]):  # 이미지 개별 for문\n",
    "        if img_num == 100:\n",
    "            break\n",
    "        src = img\n",
    "        dst = (r'C:\\Users\\junho\\Desktop\\cycleGAN\\pytorch-CycleGAN-and-pix2pix\\datasets\\vkitti_final' +\n",
    "            '\\\\'+str(scene_num)+str(img_num)+'.jpg')\n",
    "        shutil.copy(src, dst)\n"
   ]
  }
 ],
 "metadata": {
  "interpreter": {
   "hash": "eb099d7913d3801f682a525b6de8f749fa35a649ec45f22362047d94f2f8da6c"
  },
  "kernelspec": {
   "display_name": "Python 3.9.12 ('tensorflow')",
   "language": "python",
   "name": "python3"
  },
  "language_info": {
   "codemirror_mode": {
    "name": "ipython",
    "version": 3
   },
   "file_extension": ".py",
   "mimetype": "text/x-python",
   "name": "python",
   "nbconvert_exporter": "python",
   "pygments_lexer": "ipython3",
   "version": "3.9.12"
  },
  "orig_nbformat": 4
 },
 "nbformat": 4,
 "nbformat_minor": 2
}
