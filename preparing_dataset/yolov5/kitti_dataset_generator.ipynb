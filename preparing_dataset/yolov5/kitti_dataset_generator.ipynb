{
 "cells": [
  {
   "cell_type": "markdown",
   "metadata": {},
   "source": [
    "# 1. kitti 2 yolov5\n",
    "- kitti의 픽셀 포멧의 라벨링을 yolov5에 맞게 비율로 변환해주었습니다.\n",
    "- kitti는 vkitti와 다르게 (left, right, top, bottom)이 아니라(left, top, right, bottom)의 형식으로 라벨링되어 있습니다.\n",
    "- 라벨링을 해줄 때 관리하기 쉽게 인덱싱해주었습니다.<br>\n",
    "    ex) 키티 : 0000(scene번호) + 000000(이미지 프레임).txt"
   ]
  },
  {
   "cell_type": "code",
   "execution_count": 9,
   "metadata": {},
   "outputs": [],
   "source": [
    "import pandas as pd\n",
    "import os\n",
    "import shutil\n",
    "import splitfolders\n",
    "\n",
    "IMAGE_SIZE = (1242, 375)"
   ]
  },
  {
   "cell_type": "code",
   "execution_count": 10,
   "metadata": {},
   "outputs": [],
   "source": [
    "def convert(bbox_path,save_path):\n",
    "    #파일 불러오기\n",
    "    df = pd.read_csv(bbox_path, sep=\" \", header=None)\n",
    "    df = df.drop([1,3,4,5,10,11, 12, 13, 14,15,16], axis=1)\n",
    "\n",
    "    # vkitti: l r t b : 3,4,5,6\n",
    "    # kitti: l t r b : 6,7,8,9\n",
    "    #kitti2yolo format 변환\n",
    "    df['x'] = ((df[6].astype(int) + df[8].astype(int))/2.0) * (1./IMAGE_SIZE[0])\n",
    "    df['y'] = ((df[7].astype(int) + df[9].astype(int))/2.0) * (1./IMAGE_SIZE[1])\n",
    "    df['w'] = (df[8].astype(int) - df[6].astype(int)) * (1./IMAGE_SIZE[0])\n",
    "    df['h'] = (df[9].astype(int) - df[7].astype(int)) * (1./IMAGE_SIZE[1])\n",
    "    df = df.drop([6, 7, 8, 9], axis=1)\n",
    "    \n",
    "    #classNo 변환 (Car : 0, Van : 1, Truck : 2)\n",
    "    df.loc[df[2] == 'Car','classNo'] = '0'\n",
    "    df.loc[df[2] == 'Van','classNo'] = '1'\n",
    "    df.loc[df[2] == 'Truck','classNo'] = '2'\n",
    "\n",
    "    df[2] = df['classNo']\n",
    "    df = df.drop(['classNo'], axis=1)\n",
    "    df = df.dropna(axis=0)\n",
    "\n",
    "    frames = []\n",
    "    for i in range(int(df.loc[df.tail(1).index][0])+1):\n",
    "        tmp = df[df[0] == i]\n",
    "        tmp = tmp.drop([0],axis = 1)\n",
    "        frames.append(tmp)\n",
    "    \n",
    "    # df 저장 scene[4] + frame[6]\n",
    "    for i, frame in enumerate(frames):\n",
    "        index = str(i).zfill(6)\n",
    "        frame.to_csv('{}{}{}.txt'.format(save_path,os.path.basename(bbox_path)[:4],index), \n",
    "                    sep=' ', header=False, index=False)"
   ]
  },
  {
   "cell_type": "code",
   "execution_count": 14,
   "metadata": {},
   "outputs": [
    {
     "name": "stdout",
     "output_type": "stream",
     "text": [
      "scene 0001 converted to yolov5 format\n",
      "scene 0002 converted to yolov5 format\n",
      "scene 0006 converted to yolov5 format\n",
      "scene 0018 converted to yolov5 format\n",
      "scene 0020 converted to yolov5 format\n"
     ]
    }
   ],
   "source": [
    "data_path = '/usr/src/datasets/raw_kitti/raw_kitti_bbox/'\n",
    "save_bbox_path = '/usr/src/datasets/kitti2015/labels/'\n",
    "\n",
    "if os.path.exists(save_bbox_path):\n",
    "    shutil.rmtree(save_bbox_path)\n",
    "os.mkdir(save_bbox_path)\n",
    "\n",
    "sList = ['0001.txt','0002.txt','0006.txt','0018.txt','0020.txt']\n",
    "for scene in sList:\n",
    "    convert(data_path+scene,save_bbox_path)\n",
    "    print('scene '+scene[:4]+' converted to yolov5 format')"
   ]
  },
  {
   "cell_type": "markdown",
   "metadata": {},
   "source": [
    "# 2. images 2 onefolder\n",
    "- 앞서 생성한 라벨들의 이미지들에 대해서도 심볼릭링크를 통해 인덱싱해줍니다.\n",
    "- yolov5모델 학습을 위해 모든 이미지들을 한 폴더로 이동시켜줍니다."
   ]
  },
  {
   "cell_type": "code",
   "execution_count": null,
   "metadata": {},
   "outputs": [],
   "source": [
    "kitti_dir_path = '/usr/src/datasets/raw_kitti/raw_kitti_photo/training/image_02/0020/'\n",
    "kitti_labels_path = '/usr/src/datasets/kitti2015/labels/'\n",
    "kitti_save_path = '/usr/src/datasets/kitti2015/images/images/'"
   ]
  },
  {
   "cell_type": "code",
   "execution_count": null,
   "metadata": {},
   "outputs": [
    {
     "name": "stdout",
     "output_type": "stream",
     "text": [
      "837 images moved to /usr/src/datasets/kitti2015/images/images/\n"
     ]
    }
   ],
   "source": [
    "photos = os.listdir(kitti_dir_path)\n",
    "photos.sort()\n",
    "labels = os.listdir(kitti_labels_path)\n",
    "labels.sort()\n",
    "\n",
    "scene_labels=[]\n",
    "for scene in labels:\n",
    "    if scene[:4] == '0020':\n",
    "        scene_labels.append(scene)\n",
    "\n",
    "for i,photo in enumerate(photos):\n",
    "    if i < len(scene_labels):\n",
    "        os.symlink(kitti_dir_path+photo, kitti_save_path+scene_labels[i][:-4]+'.png')\n",
    "    else:\n",
    "        os.symlink(kitti_dir_path+photo, kitti_save_path+scene_labels[0][:4]+os.path.basename(photo))\n",
    "\n",
    "print('{} images moved to {}'.format(len(photos),kitti_save_path))"
   ]
  },
  {
   "cell_type": "markdown",
   "metadata": {},
   "source": [
    "# 3. images 2 test train val \n",
    "- 인덱싱한 이미지들을 test, train, val데이터셋으로 나누어줍니다.\n",
    "- 나누어준 이미지들에 대해서 각각 라벨들을 심볼릭 링크를 통해 mapping시켜줍니다."
   ]
  },
  {
   "cell_type": "code",
   "execution_count": null,
   "metadata": {},
   "outputs": [
    {
     "name": "stderr",
     "output_type": "stream",
     "text": [
      "Copying files: 2126 files [00:11, 182.33 files/s]\n"
     ]
    }
   ],
   "source": [
    "kitti_path = '/usr/src/datasets/kitti2015/'\n",
    "\n",
    "#split train test val\n",
    "splitfolders.ratio(kitti_path+'images/', output=kitti_path, seed=2022, ratio=(.8, 0.1,0.1))"
   ]
  },
  {
   "cell_type": "code",
   "execution_count": null,
   "metadata": {},
   "outputs": [],
   "source": [
    "## labels directory 만들어주기\n",
    "pass_list = ['train/labels', 'test/labels', 'val/labels',]\n",
    "\n",
    "for path in pass_list:\n",
    "    os.mkdir(kitti_path+path)\n",
    "\n",
    "# txt 2 train test val mv\n",
    "label_list = os.listdir(kitti_path+'labels')"
   ]
  },
  {
   "cell_type": "code",
   "execution_count": null,
   "metadata": {},
   "outputs": [],
   "source": [
    "#test\n",
    "path_list = os.listdir(kitti_path+'test/images')\n",
    "for filename in path_list:\n",
    "    if filename[:-4]+'.txt' in label_list:\n",
    "        os.symlink(kitti_path+'labels/'+filename[:-4]+'.txt',\n",
    "                    kitti_path+'test/labels/'+filename[:-4]+'.txt')"
   ]
  },
  {
   "cell_type": "code",
   "execution_count": null,
   "metadata": {},
   "outputs": [],
   "source": [
    "#train\n",
    "path_list = os.listdir(kitti_path+'train/images')\n",
    "\n",
    "for filename in path_list:\n",
    "    if filename[:-4]+'.txt' in label_list:\n",
    "        os.symlink(kitti_path+'labels/'+filename[:-4]+'.txt',\n",
    "                    kitti_path+'train/labels/'+filename[:-4]+'.txt')"
   ]
  },
  {
   "cell_type": "code",
   "execution_count": null,
   "metadata": {},
   "outputs": [],
   "source": [
    "#val\n",
    "path_list = os.listdir(kitti_path+'val/images')\n",
    "\n",
    "for filename in path_list:\n",
    "    if filename[:-4]+'.txt' in label_list:\n",
    "        os.symlink(kitti_path+'labels/'+filename[:-4]+'.txt',\n",
    "                    kitti_path+'val/labels/'+filename[:-4]+'.txt')"
   ]
  }
 ],
 "metadata": {
  "interpreter": {
   "hash": "d4d1e4263499bec80672ea0156c357c1ee493ec2b1c70f0acce89fc37c4a6abe"
  },
  "kernelspec": {
   "display_name": "Python 3.8.13 ('base')",
   "language": "python",
   "name": "python3"
  },
  "language_info": {
   "codemirror_mode": {
    "name": "ipython",
    "version": 3
   },
   "file_extension": ".py",
   "mimetype": "text/x-python",
   "name": "python",
   "nbconvert_exporter": "python",
   "pygments_lexer": "ipython3",
   "version": "3.8.13"
  },
  "orig_nbformat": 4
 },
 "nbformat": 4,
 "nbformat_minor": 2
}
