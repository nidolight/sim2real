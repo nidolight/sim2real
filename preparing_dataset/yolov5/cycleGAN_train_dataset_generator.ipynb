{
 "cells": [
  {
   "cell_type": "markdown",
   "metadata": {},
   "source": [
    "# 1. kitti images 2 onefolder\n",
    "- 인덱싱으로 생성한 심볼릭 링크 키티 이미지들을 하나의 폴더로 분류시켜줍니다.\n",
    "- 모든 프레임에 대하여 프레임%7==0인 키티 이미지들을 한장씩 뽑아 사용합니다."
   ]
  },
  {
   "cell_type": "code",
   "execution_count": 5,
   "metadata": {},
   "outputs": [],
   "source": [
    "import os\n",
    "import splitfolders\n",
    "import shutil\n",
    "\n",
    "kitti_img_path = '/usr/src/datasets/kitti2015/images/images'\n",
    "kitti_label_path = '/usr/src/datasets/kitti2015/labels'\n",
    "\n",
    "img_save_path = '/usr/src/datasets/kitti_vkitti/images/images'\n",
    "label_save_path = '/usr/src/datasets/kitti_vkitti/labels'"
   ]
  },
  {
   "cell_type": "code",
   "execution_count": 6,
   "metadata": {},
   "outputs": [
    {
     "name": "stdout",
     "output_type": "stream",
     "text": [
      "kitti images % 7 == 0 : copied\n"
     ]
    }
   ],
   "source": [
    "#kitti img copy\n",
    "img_list = os.listdir(kitti_img_path)\n",
    "\n",
    "for img in img_list:\n",
    "    if int(img[5:-4])%7 == 0:\n",
    "        os.symlink(kitti_img_path+'/'+img, img_save_path+'/'+img)\n",
    "\n",
    "print('kitti images % 7 == 0 : copied')"
   ]
  },
  {
   "cell_type": "code",
   "execution_count": 7,
   "metadata": {},
   "outputs": [
    {
     "name": "stdout",
     "output_type": "stream",
     "text": [
      "kitti labels % 7 == 0 : copied\n"
     ]
    }
   ],
   "source": [
    "#kitti label copy\n",
    "label_list = os.listdir(kitti_label_path)\n",
    "\n",
    "for label in label_list:\n",
    "    if int(label[5:-4])%7 == 0:\n",
    "        os.symlink(kitti_label_path+'/'+label, label_save_path+'/'+label)\n",
    "\n",
    "print('kitti labels % 7 == 0 : copied')"
   ]
  },
  {
   "cell_type": "markdown",
   "metadata": {},
   "source": [
    "# 2. cycleGAN 2 one folder\n",
    "- 인덱싱으로 생성한 심볼릭 링크 cycleGAN 이미지들을 하나의 폴더로 분류시켜줍니다.\n",
    "- 모든 프레임에 대하여 환경별로 순서대로 한장씩 cycleGAN 이미지들을 뽑아 사용합니다."
   ]
  },
  {
   "cell_type": "code",
   "execution_count": null,
   "metadata": {},
   "outputs": [
    {
     "name": "stderr",
     "output_type": "stream",
     "text": [
      "Copying files: 2126 files [00:04, 496.02 files/s]\n"
     ]
    }
   ],
   "source": [
    "vkitti_img_path = '/usr/src/datasets/vkitti2.0.3/images/images'\n",
    "vkitti_label_path = '/usr/src/datasets/vkitti2.0.3/labels'\n",
    "\n",
    "gen_img_path = 'cyclegan4yolov5'\n",
    "\n",
    "img_save_path = 'dataset'\n",
    "label_save_path = '/usr/src/datasets/kitti_vkitti/labels'"
   ]
  },
  {
   "cell_type": "code",
   "execution_count": null,
   "metadata": {},
   "outputs": [
    {
     "name": "stdout",
     "output_type": "stream",
     "text": [
      "kitti images % 7 == 5,7,8: copied\n"
     ]
    }
   ],
   "source": [
    "#cycleGAN img copy\n",
    "gen_img_list = os.listdir(gen_img_path)\n",
    "\n",
    "for img in gen_img_list:\n",
    "    if img[3]=='5' and int(img[7:-4])%7 == 2 :\n",
    "        os.symlink(gen_img_path+'/'+img, img_save_path+'/'+img)\n",
    "    elif img[3]=='7' and int(img[7:-4])%7 == 4 :\n",
    "        os.symlink(gen_img_path+'/'+img, img_save_path+'/'+img)\n",
    "    elif img[3]=='8' and int(img[7:-4])%7 == 5 :\n",
    "        os.symlink(gen_img_path+'/'+img, img_save_path+'/'+img)\n",
    "\n",
    "print('kitti images % 7 == 5,7,8: copied')"
   ]
  },
  {
   "cell_type": "code",
   "execution_count": null,
   "metadata": {},
   "outputs": [
    {
     "name": "stdout",
     "output_type": "stream",
     "text": [
      "kitti images % 7 == 1,2,3,4,5,6 : copied\n"
     ]
    }
   ],
   "source": [
    "#vkitti img copy\n",
    "img_list = os.listdir(vkitti_img_path)\n",
    "\n",
    "for img in img_list:\n",
    "    if img[3]=='4' and int(img[7:-4])%7 == 1 :\n",
    "        os.symlink(vkitti_img_path+'/'+img, img_save_path+'/'+img)\n",
    "    elif img[3]=='6' and int(img[7:-4])%7 == 3 :\n",
    "        os.symlink(vkitti_img_path+'/'+img, img_save_path+'/'+img)\n",
    "    elif img[3]=='9' and int(img[7:-4])%7 == 6 :\n",
    "        os.symlink(vkitti_img_path+'/'+img, img_save_path+'/'+img)\n",
    "\n",
    "print('kitti images % 7 == 1,3,6: copied')"
   ]
  },
  {
   "cell_type": "code",
   "execution_count": null,
   "metadata": {},
   "outputs": [
    {
     "name": "stdout",
     "output_type": "stream",
     "text": [
      "kitti images % 7 == 1,2,3,4,5,6 : copied\n"
     ]
    }
   ],
   "source": [
    "#vkitti label(=cycleGAN label) copy\n",
    "label_list = os.listdir(vkitti_label_path)\n",
    "\n",
    "for label in label_list:\n",
    "    if label[3]=='4' and int(label[7:-4])%7 == 1 :\n",
    "        os.symlink(vkitti_label_path+'/'+label, label_save_path+'/'+label)\n",
    "    elif label[3]=='5' and int(label[7:-4])%7 == 2 :\n",
    "        os.symlink(vkitti_label_path+'/'+label, label_save_path+'/'+label)\n",
    "    elif label[3]=='6' and int(label[7:-4])%7 == 3 :\n",
    "        os.symlink(vkitti_label_path+'/'+label, label_save_path+'/'+label)\n",
    "    elif label[3]=='7' and int(label[7:-4])%7 == 4 :\n",
    "        os.symlink(vkitti_label_path+'/'+label, label_save_path+'/'+label)\n",
    "    elif label[3]=='8' and int(label[7:-4])%7 == 5 :\n",
    "        os.symlink(vkitti_label_path+'/'+label, label_save_path+'/'+label)\n",
    "    elif label[3]=='9' and int(label[7:-4])%7 == 6 :\n",
    "        os.symlink(vkitti_label_path+'/'+label, label_save_path+'/'+label)\n",
    "\n",
    "print('kitti images % 7 == 1,2,3,4,5,6 : copied')"
   ]
  },
  {
   "cell_type": "markdown",
   "metadata": {},
   "source": [
    "# 3. images 2 test train val \n",
    "- 인덱싱한 이미지들을 test, train, val데이터셋으로 나누어줍니다.\n",
    "- 나누어준 이미지들에 대해서 각각 라벨들을 심볼릭 링크를 통해 mapping시켜줍니다."
   ]
  },
  {
   "cell_type": "code",
   "execution_count": null,
   "metadata": {},
   "outputs": [
    {
     "name": "stderr",
     "output_type": "stream",
     "text": [
      "Copying files: 2126 files [00:04, 496.02 files/s]\n"
     ]
    }
   ],
   "source": [
    "vkitti_path = '/usr/src/datasets/kitti_vkitti/'\n",
    "\n",
    "#split train test val\n",
    "splitfolders.ratio(vkitti_path+'images/', output=vkitti_path, seed=2022, ratio=(.8, 0.1,0.1))"
   ]
  },
  {
   "cell_type": "code",
   "execution_count": null,
   "metadata": {},
   "outputs": [],
   "source": [
    "## labels directory 만들어주기\n",
    "pass_list = ['train/labels', 'test/labels', 'val/labels',]\n",
    "\n",
    "for path in pass_list:\n",
    "    os.mkdir(vkitti_path+path)\n",
    "\n",
    "# txt 2 train test val mv\n",
    "label_list = os.listdir(vkitti_path+'labels')"
   ]
  },
  {
   "cell_type": "code",
   "execution_count": null,
   "metadata": {},
   "outputs": [],
   "source": [
    "#train\n",
    "path_list = os.listdir(vkitti_path+'test/images')\n",
    "for filename in path_list:\n",
    "    if filename[:-4]+'.txt' in label_list:\n",
    "        os.symlink(vkitti_path+'labels/'+filename[:-4]+'.txt',\n",
    "                    vkitti_path+'test/labels/'+filename[:-4]+'.txt')"
   ]
  },
  {
   "cell_type": "code",
   "execution_count": null,
   "metadata": {},
   "outputs": [],
   "source": [
    "#test\n",
    "path_list = os.listdir(vkitti_path+'train/images')\n",
    "for filename in path_list:\n",
    "    if filename[:-4]+'.txt' in label_list:\n",
    "        os.symlink(vkitti_path+'labels/'+filename[:-4]+'.txt',\n",
    "                    vkitti_path+'train/labels/'+filename[:-4]+'.txt')"
   ]
  },
  {
   "cell_type": "code",
   "execution_count": null,
   "metadata": {},
   "outputs": [],
   "source": [
    "#val\n",
    "path_list = os.listdir(vkitti_path+'val/images')\n",
    "for filename in path_list:\n",
    "    if filename[:-4]+'.txt' in label_list:\n",
    "        os.symlink(vkitti_path+'labels/'+filename[:-4]+'.txt',\n",
    "                    vkitti_path+'val/labels/'+filename[:-4]+'.txt')"
   ]
  }
 ],
 "metadata": {
  "interpreter": {
   "hash": "d4d1e4263499bec80672ea0156c357c1ee493ec2b1c70f0acce89fc37c4a6abe"
  },
  "kernelspec": {
   "display_name": "Python 3.8.13 ('base')",
   "language": "python",
   "name": "python3"
  },
  "language_info": {
   "codemirror_mode": {
    "name": "ipython",
    "version": 3
   },
   "file_extension": ".py",
   "mimetype": "text/x-python",
   "name": "python",
   "nbconvert_exporter": "python",
   "pygments_lexer": "ipython3",
   "version": "3.8.13"
  },
  "orig_nbformat": 4
 },
 "nbformat": 4,
 "nbformat_minor": 2
}
