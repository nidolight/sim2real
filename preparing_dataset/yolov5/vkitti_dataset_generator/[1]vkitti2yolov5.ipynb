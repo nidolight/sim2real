{
 "cells": [
  {
   "cell_type": "markdown",
   "metadata": {},
   "source": [
    "# 1. vkitti 2 yolov5\n",
    "- vkitti의 픽셀 포멧의 라벨링을 yolov5에 맞게 비율로 변환해주었습니다.\n",
    "- CAR_VAN_TRUCK.csv의 라벨 정보를 바탕으로 새로 라벨링\n",
    "- 라벨링을 해줄 때 관리하기 쉽게 인덱싱해주었습니다.<br>\n",
    "    ex) 00(scene번호) + 00(환경번호) + 00(카메라 번호)+ 000000(이미지 프레임).txt\n"
   ]
  },
  {
   "cell_type": "code",
   "execution_count": 1,
   "metadata": {},
   "outputs": [],
   "source": [
    "import pandas as pd\n",
    "import os\n",
    "import itertools"
   ]
  },
  {
   "cell_type": "code",
   "execution_count": 2,
   "metadata": {},
   "outputs": [
    {
     "data": {
      "text/html": [
       "<div>\n",
       "<style scoped>\n",
       "    .dataframe tbody tr th:only-of-type {\n",
       "        vertical-align: middle;\n",
       "    }\n",
       "\n",
       "    .dataframe tbody tr th {\n",
       "        vertical-align: top;\n",
       "    }\n",
       "\n",
       "    .dataframe thead th {\n",
       "        text-align: right;\n",
       "    }\n",
       "</style>\n",
       "<table border=\"1\" class=\"dataframe\">\n",
       "  <thead>\n",
       "    <tr style=\"text-align: right;\">\n",
       "      <th></th>\n",
       "      <th>index</th>\n",
       "      <th>className</th>\n",
       "    </tr>\n",
       "  </thead>\n",
       "  <tbody>\n",
       "    <tr>\n",
       "      <th>0</th>\n",
       "      <td>0</td>\n",
       "      <td>Car</td>\n",
       "    </tr>\n",
       "    <tr>\n",
       "      <th>1</th>\n",
       "      <td>1</td>\n",
       "      <td>Car</td>\n",
       "    </tr>\n",
       "    <tr>\n",
       "      <th>2</th>\n",
       "      <td>10</td>\n",
       "      <td>Car</td>\n",
       "    </tr>\n",
       "    <tr>\n",
       "      <th>3</th>\n",
       "      <td>100</td>\n",
       "      <td>Car</td>\n",
       "    </tr>\n",
       "    <tr>\n",
       "      <th>4</th>\n",
       "      <td>101</td>\n",
       "      <td>Car</td>\n",
       "    </tr>\n",
       "    <tr>\n",
       "      <th>...</th>\n",
       "      <td>...</td>\n",
       "      <td>...</td>\n",
       "    </tr>\n",
       "    <tr>\n",
       "      <th>127</th>\n",
       "      <td>94</td>\n",
       "      <td>Car</td>\n",
       "    </tr>\n",
       "    <tr>\n",
       "      <th>128</th>\n",
       "      <td>95</td>\n",
       "      <td>Car</td>\n",
       "    </tr>\n",
       "    <tr>\n",
       "      <th>129</th>\n",
       "      <td>96</td>\n",
       "      <td>Car</td>\n",
       "    </tr>\n",
       "    <tr>\n",
       "      <th>130</th>\n",
       "      <td>97</td>\n",
       "      <td>Car</td>\n",
       "    </tr>\n",
       "    <tr>\n",
       "      <th>131</th>\n",
       "      <td>98</td>\n",
       "      <td>Car</td>\n",
       "    </tr>\n",
       "  </tbody>\n",
       "</table>\n",
       "<p>132 rows × 2 columns</p>\n",
       "</div>"
      ],
      "text/plain": [
       "     index className\n",
       "0        0       Car\n",
       "1        1       Car\n",
       "2       10       Car\n",
       "3      100       Car\n",
       "4      101       Car\n",
       "..     ...       ...\n",
       "127     94       Car\n",
       "128     95       Car\n",
       "129     96       Car\n",
       "130     97       Car\n",
       "131     98       Car\n",
       "\n",
       "[132 rows x 2 columns]"
      ]
     },
     "execution_count": 2,
     "metadata": {},
     "output_type": "execute_result"
    }
   ],
   "source": [
    "IMAGE_SIZE = (1242, 375)\n",
    "CAR_VAN_TRUCK = pd.read_csv(\"./CAR_VAN_TRUCK.csv\")\n",
    "CAR_VAN_TRUCK"
   ]
  },
  {
   "cell_type": "code",
   "execution_count": 3,
   "metadata": {},
   "outputs": [],
   "source": [
    "def make_index(path):\n",
    "    tmp = path.split('/')\n",
    "    sceneNo = tmp[-3][-2:]\n",
    "    sceneOpt = {'15-deg-left' : '00',\n",
    "                '15-deg-right' : '01',\n",
    "                '30-deg-left' : '02',\n",
    "                '30-deg-right' : '03',\n",
    "                'clone' : '04',\n",
    "                'fog' : '05',\n",
    "                'morning' : '06',\n",
    "                'overcast' : '07',\n",
    "                'rain' : '08',\n",
    "                'sunset' : '09'\n",
    "    }\n",
    "    return sceneNo + sceneOpt[tmp[-2]]"
   ]
  },
  {
   "cell_type": "code",
   "execution_count": 4,
   "metadata": {},
   "outputs": [],
   "source": [
    "def convert(bbox_path,save_path):\n",
    "    #파일 불러오기\n",
    "    df = pd.read_csv(bbox_path, sep=\" \", header=None)\n",
    "    df = df.drop([7, 8, 9, 10], axis=1)\n",
    "    df = df.drop([0], axis=0)\n",
    "\n",
    "    #kitti2yolo format 변환\n",
    "    df['x'] = ((df[3].astype(int) + df[4].astype(int))/2.0) * (1./IMAGE_SIZE[0])\n",
    "    df['y'] = ((df[5].astype(int) + df[6].astype(int))/2.0) * (1./IMAGE_SIZE[1])\n",
    "    df['w'] = (df[4].astype(int) - df[3].astype(int)) * (1./IMAGE_SIZE[0])\n",
    "    df['h'] = (df[6].astype(int) - df[5].astype(int)) * (1./IMAGE_SIZE[1])\n",
    "    df = df.drop([3, 4, 5, 6], axis=1)\n",
    "\n",
    "    #classNo 변환 (Car : 0, Van : 1, Truck : 2)\n",
    "    car_list = CAR_VAN_TRUCK[CAR_VAN_TRUCK['className'] == 'Car'].drop(['className'], axis=1).values.tolist()\n",
    "    van_list = CAR_VAN_TRUCK[CAR_VAN_TRUCK['className'] == 'Van'].drop(['className'], axis=1).values.tolist()\n",
    "    truck_list = CAR_VAN_TRUCK[CAR_VAN_TRUCK['className'] == 'Truck'].drop(['className'], axis=1).values.tolist()\n",
    "\n",
    "    car_list = list(itertools.chain(*car_list))\n",
    "    van_list = list(itertools.chain(*van_list))\n",
    "    truck_list = list(itertools.chain(*truck_list))\n",
    "\n",
    "    for i in car_list:\n",
    "        df.loc[df[2] == str(i),'classNo'] = '0'\n",
    "    for i in van_list:\n",
    "        df.loc[df[2] == str(i),'classNo'] = '1'\n",
    "    for i in truck_list:\n",
    "        df.loc[df[2] == str(i),'classNo'] = '2'\n",
    "    \n",
    "    df[2] = df['classNo']\n",
    "    df = df.drop(['classNo'], axis=1)\n",
    "\n",
    "    #프레임별 분리\n",
    "    frame = []\n",
    "    for i in range(int(df.loc[len(df)-1][0])+1):\n",
    "        frame.append(df[df[0] == str(i)])\n",
    "\n",
    "    #스테레오 카메라별 분리\n",
    "    camera0, camera1 = [], []\n",
    "    for df in frame:\n",
    "        camera0.append(df[df[1] == '0'].drop([0,1], axis=1))\n",
    "        camera1.append(df[df[1] == '1'].drop([0,1], axis=1))\n",
    "    \n",
    "    # df 저장\n",
    "    for i, frame in enumerate(camera0):\n",
    "        index = str(i).zfill(6)\n",
    "        frame.to_csv('{}{}00{}.txt'.format(save_path,make_index(bbox_path),index), \n",
    "                    sep=' ', header=False, index=False)\n",
    "    for i, frame in enumerate(camera1):\n",
    "        index = str(i).zfill(6)\n",
    "        frame.to_csv('{}{}01{}.txt'.format(save_path,make_index(bbox_path),index), \n",
    "                    sep=' ', header=False, index=False)\n",
    "\n",
    "\n",
    "# save_bbox_path = '/usr/src/datasets/vkitti2.0.3/labels/'\n",
    "# data_path = '/usr/src/datasets/rawVkitti/vkitti2.0.3bbox/Scene01/15-deg-left/bbox.txt'\n",
    "# convert(data_path,save_bbox_path)"
   ]
  },
  {
   "cell_type": "code",
   "execution_count": null,
   "metadata": {},
   "outputs": [],
   "source": [
    "data_path = '/usr/src/datasets/rawVkitti/vkitti2.0.3rgb'\n",
    "save_labels_path = '/usr/src/datasets/vkitti2.0.3/labels/'# 심볼릭링크가 다 모여질 폴더\n",
    "\n",
    "vkitti_bbox_path = '/usr/src/datasets/rawVkitti/vkitti2.0.3bbox'\n",
    "\n",
    "bbox_list = []\n",
    "for (path, dir, files) in os.walk(vkitti_bbox_path):\n",
    "    for filename in files:\n",
    "        ext = os.path.basename(filename)   \n",
    "        pathOpt = path.split('/')\n",
    "        if ext == 'bbox.txt' and pathOpt[-1] == 'clone':\n",
    "            bbox_list.append(\"%s/%s\" % (path, filename))\n",
    "print(bbox_list)\n",
    "\n",
    "for bbox_path in bbox_list:\n",
    "    convert(bbox_path, save_labels_path)\n",
    "print('bbox converted to yolov5 format')\n",
    "print('saved at %s' % (save_labels_path))"
   ]
  },
  {
   "cell_type": "code",
   "execution_count": 11,
   "metadata": {},
   "outputs": [
    {
     "data": {
      "text/plain": [
       "'0100'"
      ]
     },
     "execution_count": 11,
     "metadata": {},
     "output_type": "execute_result"
    }
   ],
   "source": [
    "index = make_index(data_path)\n",
    "\n",
    "index"
   ]
  }
 ],
 "metadata": {
  "interpreter": {
   "hash": "d4d1e4263499bec80672ea0156c357c1ee493ec2b1c70f0acce89fc37c4a6abe"
  },
  "kernelspec": {
   "display_name": "Python 3.8.13 ('base')",
   "language": "python",
   "name": "python3"
  },
  "language_info": {
   "codemirror_mode": {
    "name": "ipython",
    "version": 3
   },
   "file_extension": ".py",
   "mimetype": "text/x-python",
   "name": "python",
   "nbconvert_exporter": "python",
   "pygments_lexer": "ipython3",
   "version": "3.8.13"
  },
  "orig_nbformat": 4
 },
 "nbformat": 4,
 "nbformat_minor": 2
}
