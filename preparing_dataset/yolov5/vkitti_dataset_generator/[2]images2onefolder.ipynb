{
 "cells": [
  {
   "cell_type": "markdown",
   "metadata": {},
   "source": [
    "# 2. images 2 onefolder\n",
    "- 앞서 생성한 라벨들의 이미지들에 대해서도 심볼릭링크를 통해 인덱싱해줍니다.\n",
    "- yolov5모델 학습을 위해 모든 이미지들을 한 폴더로 이동시켜줍니다."
   ]
  },
  {
   "cell_type": "code",
   "execution_count": null,
   "metadata": {},
   "outputs": [],
   "source": [
    "import os\n",
    "\n",
    "def make_index(path): \n",
    "    #data_path를 이용한 파일 구분\n",
    "    #return은 secenNo+opt 문자열\n",
    "    tmp = path.split('/')\n",
    "    sceneNo = tmp[-5][-2:]\n",
    "    sceneOpt = {'15-deg-left' : '00',\n",
    "                '15-deg-right' : '01',\n",
    "                '30-deg-left' : '02',\n",
    "                '30-deg-right' : '03',\n",
    "                'clone' : '04',\n",
    "                'fog' : '05',\n",
    "                'morning' : '06',\n",
    "                'overcast' : '07',\n",
    "                'rain' : '08',\n",
    "                'sunset' : '09'\n",
    "    }\n",
    "    camNo = '0'+tmp[-1][-1]\n",
    "    return sceneNo + sceneOpt[tmp[-4]] + camNo"
   ]
  },
  {
   "cell_type": "code",
   "execution_count": null,
   "metadata": {},
   "outputs": [],
   "source": [
    "def make_symlink(image_list,cam_path,save_image_path):\n",
    "    #image_list == raw_dataset이미지파일 이름의 list\n",
    "    #cam_path == image_list 경로\n",
    "    #save_image_path == symbolic_link가 저장될 경로\n",
    "    for i,image in enumerate(image_list) :\n",
    "        os.symlink(cam_path+'/'+image, save_image_path+'/'+make_index(cam_path)+str(i).zfill(6)+'.jpg')"
   ]
  },
  {
   "cell_type": "code",
   "execution_count": null,
   "metadata": {},
   "outputs": [],
   "source": [
    "data_path = '/usr/src/datasets/rawVkitti/vkitti2.0.3rgb'\n",
    "#데이터 패스 => vkitti rgb 까지\n",
    "save_image_path = '/usr/src/datasets/vkitti2.0.3/images/images'# 심볼릭링크가 다 모여질 이미지 폴더\n",
    "scene_path_list = ['/Scene01','/Scene02','/Scene06','/Scene18','/Scene20'] \n",
    "opt_path_list = ['/15-deg-left/','/15-deg-right/','/30-deg-left/','/30-deg-right/',\n",
    "                    '/clone/','/fog/','/morning/','/overcast/','/rain/','/sunset/']\n",
    "camera_path_list = ['frames/rgb/Camera_0','frames/rgb/Camera_1']\n",
    "\n",
    "rawdataset_path_list =[] #rawdataset 경로 모음\n",
    "for scene_path in scene_path_list :\n",
    "    for situation_path in opt_path_list:\n",
    "        for camera_path in camera_path_list :\n",
    "            rawdataset_path_list.append(data_path+scene_path+situation_path+camera_path)\n",
    "\n",
    "\n",
    "for rawdataset_path in rawdataset_path_list : #rawdataset 경로를 따라 scene+opt+enumerate로 파일을 구분\n",
    "        pathOpt = rawdataset_path.split('/')\n",
    "        if pathOpt[-4] == 'clone' and pathOpt[-1] == 'Camera_0':\n",
    "            cam_path = rawdataset_path\n",
    "            image_list_cam = os.listdir(cam_path)\n",
    "            image_list_cam.sort()\n",
    "            make_symlink(image_list_cam,cam_path,save_image_path)\n",
    "print('symlinks of images made')"
   ]
  }
 ],
 "metadata": {
  "interpreter": {
   "hash": "d4d1e4263499bec80672ea0156c357c1ee493ec2b1c70f0acce89fc37c4a6abe"
  },
  "kernelspec": {
   "display_name": "Python 3.8.13 ('base')",
   "language": "python",
   "name": "python3"
  },
  "language_info": {
   "codemirror_mode": {
    "name": "ipython",
    "version": 3
   },
   "file_extension": ".py",
   "mimetype": "text/x-python",
   "name": "python",
   "nbconvert_exporter": "python",
   "pygments_lexer": "ipython3",
   "version": "3.8.13"
  },
  "orig_nbformat": 4
 },
 "nbformat": 4,
 "nbformat_minor": 2
}
