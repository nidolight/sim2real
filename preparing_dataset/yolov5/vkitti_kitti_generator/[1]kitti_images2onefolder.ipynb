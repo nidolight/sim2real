{
 "cells": [
  {
   "cell_type": "markdown",
   "metadata": {},
   "source": [
    "# 1. kitti images 2 onefolder\n",
    "- 인덱싱으로 생성한 심볼릭 링크 키티 이미지들을 하나의 폴더로 분류시켜줍니다.\n",
    "- 모든 프레임에 대하여 프레임%7==0인 키티 이미지들을 한장씩 뽑아 사용합니다."
   ]
  },
  {
   "cell_type": "code",
   "execution_count": 5,
   "metadata": {},
   "outputs": [],
   "source": [
    "import os\n",
    "\n",
    "kitti_img_path = '/usr/src/datasets/kitti2015/images/images'\n",
    "kitti_label_path = '/usr/src/datasets/kitti2015/labels'\n",
    "\n",
    "img_save_path = '/usr/src/datasets/kitti_vkitti/images/images'\n",
    "label_save_path = '/usr/src/datasets/kitti_vkitti/labels'"
   ]
  },
  {
   "cell_type": "code",
   "execution_count": 6,
   "metadata": {},
   "outputs": [
    {
     "name": "stdout",
     "output_type": "stream",
     "text": [
      "kitti images % 7 == 0 : copied\n"
     ]
    }
   ],
   "source": [
    "#kitti img copy\n",
    "img_list = os.listdir(kitti_img_path)\n",
    "\n",
    "for img in img_list:\n",
    "    if int(img[5:-4])%7 == 0:\n",
    "        os.symlink(kitti_img_path+'/'+img, img_save_path+'/'+img)\n",
    "\n",
    "print('kitti images % 7 == 0 : copied')"
   ]
  },
  {
   "cell_type": "code",
   "execution_count": 7,
   "metadata": {},
   "outputs": [
    {
     "name": "stdout",
     "output_type": "stream",
     "text": [
      "kitti labels % 7 == 0 : copied\n"
     ]
    }
   ],
   "source": [
    "#kitti label copy\n",
    "label_list = os.listdir(kitti_label_path)\n",
    "\n",
    "for label in label_list:\n",
    "    if int(label[5:-4])%7 == 0:\n",
    "        os.symlink(kitti_label_path+'/'+label, label_save_path+'/'+label)\n",
    "\n",
    "print('kitti labels % 7 == 0 : copied')"
   ]
  }
 ],
 "metadata": {
  "interpreter": {
   "hash": "d4d1e4263499bec80672ea0156c357c1ee493ec2b1c70f0acce89fc37c4a6abe"
  },
  "kernelspec": {
   "display_name": "Python 3.8.13 ('base')",
   "language": "python",
   "name": "python3"
  },
  "language_info": {
   "codemirror_mode": {
    "name": "ipython",
    "version": 3
   },
   "file_extension": ".py",
   "mimetype": "text/x-python",
   "name": "python",
   "nbconvert_exporter": "python",
   "pygments_lexer": "ipython3",
   "version": "3.8.13"
  },
  "orig_nbformat": 4
 },
 "nbformat": 4,
 "nbformat_minor": 2
}
