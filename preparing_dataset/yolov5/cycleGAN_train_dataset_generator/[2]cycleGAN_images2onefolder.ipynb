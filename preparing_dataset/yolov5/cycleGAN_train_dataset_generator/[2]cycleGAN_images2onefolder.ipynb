{
 "cells": [
  {
   "cell_type": "markdown",
   "metadata": {},
   "source": [
    "# 2. cycleGAN 2 one folder\n",
    "- 인덱싱으로 생성한 심볼릭 링크 cycleGAN 이미지들을 하나의 폴더로 분류시켜줍니다.\n",
    "- 모든 프레임에 대하여 환경별로 순서대로 한장씩 cycleGAN 이미지들을 뽑아 사용합니다."
   ]
  },
  {
   "cell_type": "code",
   "execution_count": 2,
   "metadata": {},
   "outputs": [],
   "source": [
    "import os\n",
    "\n",
    "vkitti_img_path = '/usr/src/datasets/vkitti2.0.3/images/images'\n",
    "vkitti_label_path = '/usr/src/datasets/vkitti2.0.3/labels'\n",
    "\n",
    "gen_img_path = 'cyclegan4yolov5'\n",
    "\n",
    "img_save_path = 'dataset'\n",
    "label_save_path = '/usr/src/datasets/kitti_vkitti/labels'"
   ]
  },
  {
   "cell_type": "code",
   "execution_count": 1,
   "metadata": {},
   "outputs": [
    {
     "name": "stdout",
     "output_type": "stream",
     "text": [
      "kitti images % 7 == 5,7,8: copied\n"
     ]
    }
   ],
   "source": [
    "#cycleGAN img copy\n",
    "gen_img_list = os.listdir(gen_img_path)\n",
    "\n",
    "for img in gen_img_list:\n",
    "    if img[3]=='5' and int(img[7:-4])%7 == 2 :\n",
    "        os.symlink(gen_img_path+'/'+img, img_save_path+'/'+img)\n",
    "    elif img[3]=='7' and int(img[7:-4])%7 == 4 :\n",
    "        os.symlink(gen_img_path+'/'+img, img_save_path+'/'+img)\n",
    "    elif img[3]=='8' and int(img[7:-4])%7 == 5 :\n",
    "        os.symlink(gen_img_path+'/'+img, img_save_path+'/'+img)\n",
    "\n",
    "print('kitti images % 7 == 5,7,8: copied')"
   ]
  },
  {
   "cell_type": "code",
   "execution_count": 3,
   "metadata": {},
   "outputs": [
    {
     "name": "stdout",
     "output_type": "stream",
     "text": [
      "kitti images % 7 == 1,2,3,4,5,6 : copied\n"
     ]
    }
   ],
   "source": [
    "#vkitti img copy\n",
    "img_list = os.listdir(vkitti_img_path)\n",
    "\n",
    "for img in img_list:\n",
    "    if img[3]=='4' and int(img[7:-4])%7 == 1 :\n",
    "        os.symlink(vkitti_img_path+'/'+img, img_save_path+'/'+img)\n",
    "    elif img[3]=='6' and int(img[7:-4])%7 == 3 :\n",
    "        os.symlink(vkitti_img_path+'/'+img, img_save_path+'/'+img)\n",
    "    elif img[3]=='9' and int(img[7:-4])%7 == 6 :\n",
    "        os.symlink(vkitti_img_path+'/'+img, img_save_path+'/'+img)\n",
    "\n",
    "print('kitti images % 7 == 1,3,6: copied')"
   ]
  },
  {
   "cell_type": "code",
   "execution_count": 2,
   "metadata": {},
   "outputs": [
    {
     "name": "stdout",
     "output_type": "stream",
     "text": [
      "kitti images % 7 == 1,2,3,4,5,6 : copied\n"
     ]
    }
   ],
   "source": [
    "#vkitti label(=cycleGAN label) copy\n",
    "label_list = os.listdir(vkitti_label_path)\n",
    "\n",
    "for label in label_list:\n",
    "    if label[3]=='4' and int(label[7:-4])%7 == 1 :\n",
    "        os.symlink(vkitti_label_path+'/'+label, label_save_path+'/'+label)\n",
    "    elif label[3]=='5' and int(label[7:-4])%7 == 2 :\n",
    "        os.symlink(vkitti_label_path+'/'+label, label_save_path+'/'+label)\n",
    "    elif label[3]=='6' and int(label[7:-4])%7 == 3 :\n",
    "        os.symlink(vkitti_label_path+'/'+label, label_save_path+'/'+label)\n",
    "    elif label[3]=='7' and int(label[7:-4])%7 == 4 :\n",
    "        os.symlink(vkitti_label_path+'/'+label, label_save_path+'/'+label)\n",
    "    elif label[3]=='8' and int(label[7:-4])%7 == 5 :\n",
    "        os.symlink(vkitti_label_path+'/'+label, label_save_path+'/'+label)\n",
    "    elif label[3]=='9' and int(label[7:-4])%7 == 6 :\n",
    "        os.symlink(vkitti_label_path+'/'+label, label_save_path+'/'+label)\n",
    "\n",
    "print('kitti images % 7 == 1,2,3,4,5,6 : copied')"
   ]
  }
 ],
 "metadata": {
  "interpreter": {
   "hash": "ddc1c6b4b5d8f98e091a08b11e9a95d4c428896cee1ca32471f2ede8b7b611f2"
  },
  "kernelspec": {
   "display_name": "Python 3.9.6 ('base')",
   "language": "python",
   "name": "python3"
  },
  "language_info": {
   "codemirror_mode": {
    "name": "ipython",
    "version": 3
   },
   "file_extension": ".py",
   "mimetype": "text/x-python",
   "name": "python",
   "nbconvert_exporter": "python",
   "pygments_lexer": "ipython3",
   "version": "3.9.6"
  },
  "orig_nbformat": 4
 },
 "nbformat": 4,
 "nbformat_minor": 2
}
