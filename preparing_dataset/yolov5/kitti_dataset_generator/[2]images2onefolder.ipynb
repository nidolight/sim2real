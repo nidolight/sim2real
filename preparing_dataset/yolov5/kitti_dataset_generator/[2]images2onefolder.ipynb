{
 "cells": [
  {
   "cell_type": "markdown",
   "metadata": {},
   "source": [
    "# 2. images 2 onefolder\n",
    "- 앞서 생성한 라벨들의 이미지들에 대해서도 심볼릭링크를 통해 인덱싱해줍니다.\n",
    "- yolov5모델 학습을 위해 모든 이미지들을 한 폴더로 이동시켜줍니다."
   ]
  },
  {
   "cell_type": "code",
   "execution_count": 2,
   "metadata": {},
   "outputs": [],
   "source": [
    "import os\n",
    "\n",
    "kitti_dir_path = '/usr/src/datasets/raw_kitti/raw_kitti_photo/training/image_02/0020/'\n",
    "kitti_labels_path = '/usr/src/datasets/kitti2015/labels/'\n",
    "kitti_save_path = '/usr/src/datasets/kitti2015/images/images/'"
   ]
  },
  {
   "cell_type": "code",
   "execution_count": 27,
   "metadata": {},
   "outputs": [
    {
     "name": "stdout",
     "output_type": "stream",
     "text": [
      "837 images moved to /usr/src/datasets/kitti2015/images/images/\n"
     ]
    }
   ],
   "source": [
    "photos = os.listdir(kitti_dir_path)\n",
    "photos.sort()\n",
    "labels = os.listdir(kitti_labels_path)\n",
    "labels.sort()\n",
    "\n",
    "scene_labels=[]\n",
    "for scene in labels:\n",
    "    if scene[:4] == '0020':\n",
    "        scene_labels.append(scene)\n",
    "\n",
    "for i,photo in enumerate(photos):\n",
    "    if i < len(scene_labels):\n",
    "        os.symlink(kitti_dir_path+photo, kitti_save_path+scene_labels[i][:-4]+'.png')\n",
    "    else:\n",
    "        os.symlink(kitti_dir_path+photo, kitti_save_path+scene_labels[0][:4]+os.path.basename(photo))\n",
    "\n",
    "print('{} images moved to {}'.format(len(photos),kitti_save_path))"
   ]
  }
 ],
 "metadata": {
  "interpreter": {
   "hash": "d4d1e4263499bec80672ea0156c357c1ee493ec2b1c70f0acce89fc37c4a6abe"
  },
  "kernelspec": {
   "display_name": "Python 3.8.13 ('base')",
   "language": "python",
   "name": "python3"
  },
  "language_info": {
   "codemirror_mode": {
    "name": "ipython",
    "version": 3
   },
   "file_extension": ".py",
   "mimetype": "text/x-python",
   "name": "python",
   "nbconvert_exporter": "python",
   "pygments_lexer": "ipython3",
   "version": "3.8.13"
  },
  "orig_nbformat": 4
 },
 "nbformat": 4,
 "nbformat_minor": 2
}
