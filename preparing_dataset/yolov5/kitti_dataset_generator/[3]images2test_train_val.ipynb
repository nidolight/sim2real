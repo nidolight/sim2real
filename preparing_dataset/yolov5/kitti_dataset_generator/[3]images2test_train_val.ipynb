{
 "cells": [
  {
   "cell_type": "markdown",
   "metadata": {},
   "source": [
    "# 3. images 2 test train val \n",
    "- 인덱싱한 이미지들을 test, train, val데이터셋으로 나누어줍니다.\n",
    "- 나누어준 이미지들에 대해서 각각 라벨들을 심볼릭 링크를 통해 mapping시켜줍니다."
   ]
  },
  {
   "cell_type": "code",
   "execution_count": 4,
   "metadata": {},
   "outputs": [],
   "source": [
    "import os\n",
    "import splitfolders\n",
    "\n",
    "kitti_path = '/usr/src/datasets/kitti2015/'"
   ]
  },
  {
   "cell_type": "code",
   "execution_count": 5,
   "metadata": {},
   "outputs": [
    {
     "name": "stderr",
     "output_type": "stream",
     "text": [
      "Copying files: 2126 files [00:11, 182.33 files/s]\n"
     ]
    }
   ],
   "source": [
    "#split train test val\n",
    "splitfolders.ratio(kitti_path+'images/', output=kitti_path, seed=2022, ratio=(.8, 0.1,0.1))"
   ]
  },
  {
   "cell_type": "code",
   "execution_count": 6,
   "metadata": {},
   "outputs": [],
   "source": [
    "## labels directory 만들어주기\n",
    "pass_list = ['train/labels', 'test/labels', 'val/labels',]\n",
    "\n",
    "for path in pass_list:\n",
    "    os.mkdir(kitti_path+path)"
   ]
  },
  {
   "cell_type": "code",
   "execution_count": 7,
   "metadata": {},
   "outputs": [],
   "source": [
    "# txt 2 train test val mv\n",
    "label_list = os.listdir(kitti_path+'labels')\n",
    "\n",
    "#test\n",
    "path_list = os.listdir(kitti_path+'test/images')\n",
    "\n",
    "for filename in path_list:\n",
    "    if filename[:-4]+'.txt' in label_list:\n",
    "        os.symlink(kitti_path+'labels/'+filename[:-4]+'.txt',\n",
    "                    kitti_path+'test/labels/'+filename[:-4]+'.txt')"
   ]
  },
  {
   "cell_type": "code",
   "execution_count": 8,
   "metadata": {},
   "outputs": [],
   "source": [
    "#train\n",
    "path_list = os.listdir(kitti_path+'train/images')\n",
    "\n",
    "for filename in path_list:\n",
    "    if filename[:-4]+'.txt' in label_list:\n",
    "        os.symlink(kitti_path+'labels/'+filename[:-4]+'.txt',\n",
    "                    kitti_path+'train/labels/'+filename[:-4]+'.txt')"
   ]
  },
  {
   "cell_type": "code",
   "execution_count": 9,
   "metadata": {},
   "outputs": [],
   "source": [
    "#val\n",
    "path_list = os.listdir(kitti_path+'val/images')\n",
    "\n",
    "for filename in path_list:\n",
    "    if filename[:-4]+'.txt' in label_list:\n",
    "        os.symlink(kitti_path+'labels/'+filename[:-4]+'.txt',\n",
    "                    kitti_path+'val/labels/'+filename[:-4]+'.txt')"
   ]
  }
 ],
 "metadata": {
  "interpreter": {
   "hash": "d4d1e4263499bec80672ea0156c357c1ee493ec2b1c70f0acce89fc37c4a6abe"
  },
  "kernelspec": {
   "display_name": "Python 3.8.13 ('base')",
   "language": "python",
   "name": "python3"
  },
  "language_info": {
   "codemirror_mode": {
    "name": "ipython",
    "version": 3
   },
   "file_extension": ".py",
   "mimetype": "text/x-python",
   "name": "python",
   "nbconvert_exporter": "python",
   "pygments_lexer": "ipython3",
   "version": "3.8.13"
  },
  "orig_nbformat": 4
 },
 "nbformat": 4,
 "nbformat_minor": 2
}
