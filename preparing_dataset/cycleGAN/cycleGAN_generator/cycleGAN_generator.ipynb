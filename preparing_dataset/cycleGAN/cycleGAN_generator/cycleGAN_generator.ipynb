{
 "cells": [
  {
   "cell_type": "markdown",
   "metadata": {},
   "source": [
    "# 1. vkitti file split\n",
    "- cycleGAN 모델학습에 필요한 vkitti 이미지 데이터셋을 불러옵니다.\n",
    "- vkitti 데이터셋으로는 맑은 날씨인 kitti의 clone을 사용하였습니다."
   ]
  },
  {
   "cell_type": "code",
   "execution_count": 3,
   "metadata": {},
   "outputs": [],
   "source": [
    "import os\n",
    "import shutil\n",
    "import json\n",
    "\n",
    "vkitti_raw_path = r'C:\\Users\\junho\\Desktop\\cycleGAN\\vkitti_2.0.3_rgb'\n",
    "scene_list = os.listdir(vkitti_raw_path)\n",
    "detail_path = r'\\clone\\frames\\rgb\\testA'"
   ]
  },
  {
   "cell_type": "code",
   "execution_count": 6,
   "metadata": {},
   "outputs": [],
   "source": [
    "img_paths = []  # scene 당 이미지 경로들의 모음\n",
    "for scene in scene_list:\n",
    "    # rawpath + scene + img_path => clone의 scene 당 이미지 디렉토리의 경로\n",
    "    img_path = vkitti_raw_path+'/'+scene+detail_path\n",
    "    img_list = os.listdir(img_path)  # 이미지 이름 저장\n",
    "    img_list.sort()\n",
    "    for i, img in enumerate(img_list):  # 이미지 디렉토리 경로 + 이미지 이름 => 최종 이미지 경로\n",
    "        img_list[i] = img_path + '\\\\'+ img\n",
    "    img_paths.append(img_list) #img_paths[0] = scene 0"
   ]
  },
  {
   "cell_type": "code",
   "execution_count": null,
   "metadata": {},
   "outputs": [],
   "source": [
    "for scene_num, img_path in enumerate(img_paths):  # scene for문\n",
    "    space_num = int(len(img_path)/100)\n",
    "    for img_num, img in enumerate(img_path[::space_num]):  # 이미지 개별 for문\n",
    "        if img_num == 100:\n",
    "            break\n",
    "        src = img\n",
    "        dst = (r'C:\\Users\\junho\\Desktop\\cycleGAN\\pytorch-CycleGAN-and-pix2pix\\datasets\\vkitti_final' +\n",
    "            '\\\\'+str(scene_num)+str(img_num)+'.jpg')\n",
    "        shutil.copy(src, dst)"
   ]
  },
  {
   "cell_type": "markdown",
   "metadata": {},
   "source": [
    "# 2. wheather file split\n",
    "- bdd100k데이터셋에서 cycleGAN학습에 필요한 시간대/환경별로 이미지 분리시켜줍니다.\n",
    "- 분리한 이미지들을 심볼릭 링크로 생성합니다."
   ]
  },
  {
   "cell_type": "code",
   "execution_count": null,
   "metadata": {},
   "outputs": [],
   "source": [
    "#directory 생성\n",
    "def createDirectory(directory):\n",
    "    if not os.path.exists(directory):\n",
    "        os.makedirs(directory)"
   ]
  },
  {
   "cell_type": "code",
   "execution_count": null,
   "metadata": {},
   "outputs": [],
   "source": [
    "#dir format : windows\n",
    "train_label_path = r'C:\\Users\\junho\\Desktop\\cycleGAN\\bdd100k\\labels\\bdd100k_labels_images_train.json'\n",
    "\n",
    "#label open\n",
    "with open(train_label_path) as f:\n",
    "    train_json = json.load(f)"
   ]
  },
  {
   "cell_type": "code",
   "execution_count": null,
   "metadata": {},
   "outputs": [],
   "source": [
    "raw_bdd_train_path = r'C:\\Users\\junho\\Desktop\\cycleGAN\\bdd100k\\images\\100k\\train'\n",
    "classfication_path = r'C:\\Users\\junho\\Desktop\\cycleGAN\\bdd_classification'\n",
    "\n",
    "#daytime , dawm/dusk\n",
    "#'rainy','clear','overcast','partly cloudy','foggy'\n",
    "type_of_time = ['daytime']  # , 'dawn/dusk'\n",
    "type_of_weather = ['rainy', 'snowy', 'clear',\n",
    "                   'overcast', 'undefined', 'partly cloudy', 'foggy']"
   ]
  },
  {
   "cell_type": "code",
   "execution_count": null,
   "metadata": {},
   "outputs": [],
   "source": [
    "type_of_img = {}\n",
    "for weather in type_of_weather :\n",
    "    type_of_img[weather] =[]\n",
    "\n",
    "for num, img_data in enumerate(train_json) :\n",
    "    for time in type_of_time : \n",
    "        if time==img_data['attributes']['timeofday'] :\n",
    "            type_of_img[img_data['attributes']['weather']].append(num)\n",
    "\n",
    "for key in type_of_img.keys():\n",
    "    createDirectory(classfication_path+'\\\\'+key+'\\\\')"
   ]
  },
  {
   "cell_type": "code",
   "execution_count": null,
   "metadata": {},
   "outputs": [],
   "source": [
    "#syimbolic linked\n",
    "for type in type_of_img.keys() :\n",
    "    for img_num in type_of_img[type] :\n",
    "        src = raw_bdd_train_path+'\\\\'+train_json[img_num]['name']\n",
    "        dst = classfication_path+'\\\\'+type+'\\\\'+train_json[img_num]['name']\n",
    "        os.symlink(src, dst)"
   ]
  },
  {
   "cell_type": "markdown",
   "metadata": {},
   "source": [
    "# 3. random file split\n",
    "- 시간대/환경별 분리한 bdd100k데이터셋의 크기가 너무 커 일부분만을 사용하였습니다.\n",
    "- cycleGAN에 학습시킬 데이터셋으로 환경별 500장씩 시드값을 주어 선택하였습니다."
   ]
  },
  {
   "cell_type": "code",
   "execution_count": null,
   "metadata": {},
   "outputs": [
    {
     "name": "stdout",
     "output_type": "stream",
     "text": [
      "31728 22971\n"
     ]
    }
   ],
   "source": [
    "tmp = os.listdir(\n",
    "    r'C:\\Users\\junho\\Desktop\\cycleGAN\\bdd_type_of_time_dataset\\daytime')\n",
    "tmp2 = os.listdir(\n",
    "    r'C:\\Users\\junho\\Desktop\\cycleGAN\\bdd_type_of_time_dataset\\night')\n",
    "    \n",
    "print(len(tmp), len(tmp2))"
   ]
  },
  {
   "cell_type": "code",
   "execution_count": null,
   "metadata": {},
   "outputs": [],
   "source": [
    "import json\n",
    "\n",
    "#label open\n",
    "train_label_path = r'C:\\Users\\junho\\Desktop\\cycleGAN\\bdd100k\\labels\\bdd100k_labels_images_train.json'\n",
    "with open(train_label_path) as f :\n",
    "    train_json = json.load(f)\n",
    "\n",
    "#train_json[0]\n",
    "\n",
    "#시간 카테고리 별로 분류, 값은 json list의 enumerate한 값 (이미지 number)\n",
    "type_of_time= ['daytime','night','dawn/dusk','undefined']\n",
    "type_of_img ={}\n",
    "\n",
    "for time in type_of_time :\n",
    "    type_of_img[time] =[]\n",
    "\n",
    "\n",
    "for num, img_data in enumerate( train_json) :\n",
    "    time =img_data['attributes']['timeofday']\n",
    "    type_of_img[time].append(num)\n",
    "\n",
    "\n",
    "#분류할 디렉토리 만들기 \n",
    "def createDirectory(directory):\n",
    "    if not os.path.exists(directory):\n",
    "        os.makedirs(directory)\n",
    "\n",
    "raw_bdd_train_path = r'C:\\Users\\junho\\Desktop\\cycleGAN\\bdd100k\\images\\100k\\train\\\\'\n",
    "classfication_path = r'C:\\Users\\junho\\Desktop\\cycleGAN\\bdd_day_night\\\\'\n",
    "for time in type_of_time :\n",
    "    createDirectory(classfication_path+time+'\\\\')\n",
    "\n",
    "\n",
    "#syimbolic linked\n",
    "for type in type_of_img :\n",
    "    for img_num in type_of_img[type] :\n",
    "        src = raw_bdd_train_path+train_json[img_num]['name']\n",
    "        dst = classfication_path+type+'\\\\'+train_json[img_num]['name']\n",
    "        os.symlink(src, dst)\n"
   ]
  },
  {
   "cell_type": "code",
   "execution_count": null,
   "metadata": {},
   "outputs": [],
   "source": [
    "import random \n",
    "#36728 27971\n",
    "\n",
    "random.seed(2022) #시드값\n",
    "#분리할 파일 경로\n",
    "classfication_path = r'C:\\Users\\junho\\Desktop\\cycleGAN\\bdd_type_of_time_dataset'\n",
    "img_num =500 #이미지 개수\n",
    "day_random=[] #낮 이미지 리스트\n",
    "night_random= [] #밤 이미지 리스트\n",
    "\n",
    "while True :# 중복안되게 5000장의 이미지에 대한 숫자\n",
    "    day_random.append(random.randint(0,36728))\n",
    "    if len(day_random)==img_num :\n",
    "        set_rand = set(day_random)\n",
    "        if len(set_rand) == img_num :\n",
    "            break\n",
    "        else :\n",
    "            day_random=list(set_rand)\n"
   ]
  },
  {
   "cell_type": "code",
   "execution_count": null,
   "metadata": {},
   "outputs": [
    {
     "name": "stdout",
     "output_type": "stream",
     "text": [
      "500\n"
     ]
    }
   ],
   "source": [
    "print(len(day_random))"
   ]
  },
  {
   "cell_type": "code",
   "execution_count": null,
   "metadata": {},
   "outputs": [],
   "source": [
    "while True :# 밤의 경우\n",
    "    night_random.append(random.randint(0,27971))\n",
    "    if len(night_random)==img_num :\n",
    "        set_rand = set(night_random)\n",
    "        if len(set_rand) == img_num :\n",
    "            break\n",
    "        else :\n",
    "            night_random=list(set_rand)"
   ]
  },
  {
   "cell_type": "code",
   "execution_count": null,
   "metadata": {},
   "outputs": [],
   "source": [
    "#심볼릭 링크 파일에 대한 경로들을 정렬\n",
    "daytime_path = r'C:\\Users\\junho\\Desktop\\cycleGAN\\bdd_day_night\\daytime'\n",
    "daytime_list = os.listdir(daytime_path)\n",
    "daytime_list.sort()\n",
    "night_path = r'C:\\Users\\junho\\Desktop\\cycleGAN\\bdd_day_night\\night'\n",
    "night_list= os.listdir(night_path)\n",
    "night_list.sort()"
   ]
  },
  {
   "cell_type": "code",
   "execution_count": null,
   "metadata": {},
   "outputs": [],
   "source": [
    "import shutil\n",
    "daytime_dst = r'C:\\Users\\junho\\Desktop\\cycleGAN\\pytorch-CycleGAN-and-pix2pix\\datasets\\bdd_day_night\\trainA'\n",
    "nighttime_dst = r'C:\\Users\\junho\\Desktop\\cycleGAN\\pytorch-CycleGAN-and-pix2pix\\datasets\\bdd_day_night\\trainB'\n",
    " \n",
    " \n",
    "for daytime,night in zip(day_random,night_random):\n",
    "    shutil.copy(daytime_path+ '\\\\'+daytime_list[daytime], daytime_dst)\n",
    "    shutil.copy(night_path+'\\\\'+ night_list[night], nighttime_dst)"
   ]
  },
  {
   "cell_type": "code",
   "execution_count": null,
   "metadata": {},
   "outputs": [
    {
     "data": {
      "text/plain": [
       "500"
      ]
     },
     "metadata": {},
     "output_type": "display_data"
    }
   ],
   "source": [
    "len(os.listdir(daytime_dst))"
   ]
  },
  {
   "cell_type": "code",
   "execution_count": null,
   "metadata": {},
   "outputs": [],
   "source": []
  }
 ],
 "metadata": {
  "interpreter": {
   "hash": "eb099d7913d3801f682a525b6de8f749fa35a649ec45f22362047d94f2f8da6c"
  },
  "kernelspec": {
   "display_name": "Python 3.9.12 ('tensorflow')",
   "language": "python",
   "name": "python3"
  },
  "language_info": {
   "codemirror_mode": {
    "name": "ipython",
    "version": 3
   },
   "file_extension": ".py",
   "mimetype": "text/x-python",
   "name": "python",
   "nbconvert_exporter": "python",
   "pygments_lexer": "ipython3",
   "version": "3.9.12"
  },
  "orig_nbformat": 4
 },
 "nbformat": 4,
 "nbformat_minor": 2
}
