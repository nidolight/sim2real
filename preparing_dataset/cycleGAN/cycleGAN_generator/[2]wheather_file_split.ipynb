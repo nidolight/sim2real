{
 "cells": [
  {
   "cell_type": "markdown",
   "metadata": {},
   "source": [
    "# 2. wheather file split\n",
    "- bdd100k데이터셋에서 cycleGAN학습에 필요한 시간대/환경별로 이미지 분리시켜줍니다.\n",
    "- 분리한 이미지들을 심볼릭 링크로 생성합니다."
   ]
  },
  {
   "cell_type": "code",
   "execution_count": 1,
   "metadata": {},
   "outputs": [],
   "source": [
    "import os\n",
    "import json\n",
    "\n",
    "#directory 생성\n",
    "def createDirectory(directory):\n",
    "    if not os.path.exists(directory):\n",
    "        os.makedirs(directory)"
   ]
  },
  {
   "cell_type": "code",
   "execution_count": 2,
   "metadata": {},
   "outputs": [],
   "source": [
    "#dir format : windows\n",
    "train_label_path = r'C:\\Users\\junho\\Desktop\\cycleGAN\\bdd100k\\labels\\bdd100k_labels_images_train.json'\n",
    "\n",
    "#label open\n",
    "with open(train_label_path) as f:\n",
    "    train_json = json.load(f)"
   ]
  },
  {
   "cell_type": "code",
   "execution_count": 3,
   "metadata": {},
   "outputs": [],
   "source": [
    "raw_bdd_train_path = r'C:\\Users\\junho\\Desktop\\cycleGAN\\bdd100k\\images\\100k\\train'\n",
    "classfication_path = r'C:\\Users\\junho\\Desktop\\cycleGAN\\bdd_classification'\n",
    "\n",
    "#daytime , dawm/dusk\n",
    "#'rainy','clear','overcast','partly cloudy','foggy'\n",
    "type_of_time = ['daytime']  # , 'dawn/dusk'\n",
    "type_of_weather = ['rainy', 'snowy', 'clear',\n",
    "                   'overcast', 'undefined', 'partly cloudy', 'foggy']"
   ]
  },
  {
   "cell_type": "code",
   "execution_count": 5,
   "metadata": {},
   "outputs": [],
   "source": [
    "type_of_img = {}\n",
    "for weather in type_of_weather :\n",
    "    type_of_img[weather] =[]\n",
    "\n",
    "for num, img_data in enumerate(train_json) :\n",
    "    for time in type_of_time : \n",
    "        if time==img_data['attributes']['timeofday'] :\n",
    "            type_of_img[img_data['attributes']['weather']].append(num)\n",
    "\n",
    "for key in type_of_img.keys():\n",
    "    createDirectory(classfication_path+'\\\\'+key+'\\\\')"
   ]
  },
  {
   "cell_type": "code",
   "execution_count": 7,
   "metadata": {},
   "outputs": [],
   "source": [
    "#syimbolic linked\n",
    "for type in type_of_img.keys() :\n",
    "    for img_num in type_of_img[type] :\n",
    "        src = raw_bdd_train_path+'\\\\'+train_json[img_num]['name']\n",
    "        dst = classfication_path+'\\\\'+type+'\\\\'+train_json[img_num]['name']\n",
    "        os.symlink(src, dst)"
   ]
  }
 ],
 "metadata": {
  "interpreter": {
   "hash": "b42d85326d79e065073345c058c9232a85ce42112a2ca2eed9c911350427e740"
  },
  "kernelspec": {
   "display_name": "Python 3.8.8 ('base')",
   "language": "python",
   "name": "python3"
  },
  "language_info": {
   "codemirror_mode": {
    "name": "ipython",
    "version": 3
   },
   "file_extension": ".py",
   "mimetype": "text/x-python",
   "name": "python",
   "nbconvert_exporter": "python",
   "pygments_lexer": "ipython3",
   "version": "3.8.8"
  },
  "orig_nbformat": 4
 },
 "nbformat": 4,
 "nbformat_minor": 2
}
