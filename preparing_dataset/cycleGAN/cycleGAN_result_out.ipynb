{
 "cells": [
  {
   "cell_type": "markdown",
   "metadata": {},
   "source": [
    "## result collect resize\n",
    "- cycleGAN을 학습 시킨 뒤 scene별 이미지들을 생성하기 위한 코드입니다.\n",
    "- 생성된 이미지들은 다시 yolov5모델에 학습하기 위해 원본 크기(1242, 375)로 resize과정을 거칩니다."
   ]
  },
  {
   "cell_type": "code",
   "execution_count": 9,
   "metadata": {},
   "outputs": [],
   "source": [
    "import os\n",
    "import shutil\n",
    "from PIL import Image\n",
    "from IPython.display import Image as Img\n",
    "from IPython.display import display\n",
    "import cv2\n",
    "\n",
    "generated_result_path = r'C:\\Users\\junho\\Desktop\\cycleGAN\\pytorch-CycleGAN-and-pix2pix\\results\\overcast_cyclegan\\test_latest\\images'\n",
    "saving_path = r'C:\\Users\\junho\\Desktop\\cycleGAN\\dataset4yolov5'\n"
   ]
  },
  {
   "cell_type": "code",
   "execution_count": 15,
   "metadata": {},
   "outputs": [],
   "source": [
    "shutil.rmtree(generated_result_path)"
   ]
  },
  {
   "cell_type": "markdown",
   "metadata": {},
   "source": [
    "### test 명령어\n",
    "- 아래의 명령어를 통해 학습된 cyclegan 모델의 출력결과를 확인할 수 있습니다.\n",
    "    ```\n",
    "    python test.py --dataroot C:\\Users\\junho\\Desktop\\cycleGAN\\vkitti_2.0.3_rgb\\Scene18\\clone\\frames\\rgb --name overcast_cyclegan --model cycle_gan --preprocess scale_width --load_size 1242 --num_test 1000\n",
    "    ```"
   ]
  },
  {
   "cell_type": "code",
   "execution_count": 16,
   "metadata": {},
   "outputs": [],
   "source": [
    "# 필요한 testB 이미지만 saving_path로 가져오기\n",
    "# 가져온 이미지 vkitti 원본크기(1242, 375)로 resize\n",
    "\n",
    "idx = '200700' # scene01 02 06 18 20\n",
    "img_list = os.listdir(generated_result_path)\n",
    "i=0\n",
    "for file in img_list:\n",
    "    if file.endswith('fake_B.png'):\n",
    "        shutil.copy(generated_result_path+'/'+file, \n",
    "                    saving_path+'/'+idx+'{}'.format(i).zfill(6)+'.png')\n",
    "        image = Image.open(saving_path+'/'+idx+'{}'.format(i).zfill(6)+'.png')\n",
    "        resize_image = image.resize((1242, 375))\n",
    "        resize_image.save(saving_path+'/'+idx+'{}'.format(i).zfill(6)+'.png')\n",
    "        i+=1"
   ]
  },
  {
   "cell_type": "markdown",
   "metadata": {},
   "source": [
    "### 결과 시각화\n",
    "\n",
    "- cycleGAN의 결과를 gif, mp4의 방식으로 시각화해볼 수 있습니다."
   ]
  },
  {
   "cell_type": "code",
   "execution_count": 17,
   "metadata": {},
   "outputs": [
    {
     "data": {
      "text/html": [
       "<img src=\"out.gif\"/>"
      ],
      "text/plain": [
       "<IPython.core.display.Image object>"
      ]
     },
     "metadata": {},
     "output_type": "display_data"
    }
   ],
   "source": [
    "# result gif 생성\n",
    "def generate_gif(path,name):\n",
    "    img_list = os.listdir(path)\n",
    "    img_list = [path + '/' + x for x in img_list]\n",
    "    images = [Image.open(x) for x in img_list]\n",
    "\n",
    "    im = images[0]\n",
    "    im.save(name, save_all=True, append_images=images[1:],loop=0, duration=1)\n",
    "    return Img(url=name)\n",
    "\n",
    "gif = generate_gif(saving_path,'out.gif')\n",
    "display(gif)\n"
   ]
  },
  {
   "cell_type": "code",
   "execution_count": 13,
   "metadata": {},
   "outputs": [],
   "source": [
    "# result.mp4\n",
    "def img2mp4(paths, pathOut, fps=10):\n",
    "    frame_array = []\n",
    "    for idx, path in enumerate(paths):\n",
    "        img = cv2.imread(path)\n",
    "        height, width, layers = img.shape\n",
    "        size = (width, height)\n",
    "        frame_array.append(img)\n",
    "    out = cv2.VideoWriter(pathOut, cv2.VideoWriter_fourcc(*'DIVX'), fps, size)\n",
    "    for i in range(len(frame_array)):\n",
    "        # writing to a image array\n",
    "        out.write(frame_array[i])\n",
    "    out.release()\n",
    "\n",
    "paths = sorted(os.listdir(saving_path))\n",
    "paths = [os.path.join(saving_path, path) for path in paths]\n",
    "img2mp4(paths , r'C:\\Users\\junho\\Desktop\\cycleGAN\\out.mp4', fps=24) \n"
   ]
  },
  {
   "cell_type": "code",
   "execution_count": 15,
   "metadata": {},
   "outputs": [],
   "source": [
    "# raw vkitti.mp4 (scene01)\n",
    "vkitti_path = r'C:\\Users\\junho\\Desktop\\cycleGAN\\vkitti_2.0.3_rgb\\Scene01\\clone\\frames\\rgb\\testA'\n",
    "\n",
    "paths = sorted(os.listdir(vkitti_path))\n",
    "paths = [os.path.join(vkitti_path, path) for path in paths]\n",
    "img2mp4(paths, r'C:\\Users\\junho\\Desktop\\cycleGAN\\raw_vkitti.mp4', fps=24)\n"
   ]
  },
  {
   "cell_type": "code",
   "execution_count": 18,
   "metadata": {},
   "outputs": [
    {
     "data": {
      "text/html": [
       "<img src=\"default_vkitti.gif\"/>"
      ],
      "text/plain": [
       "<IPython.core.display.Image object>"
      ]
     },
     "metadata": {},
     "output_type": "display_data"
    }
   ],
   "source": [
    "# raw vkitti gif (scene01)\n",
    "gif = generate_gif(vkitti_path,'default_vkitti.gif')\n",
    "display(gif)\n"
   ]
  }
 ],
 "metadata": {
  "interpreter": {
   "hash": "3bfa899bdf904c205fc892790d07926ffada1464d8ed4d2a1683c3fcf4b49d6c"
  },
  "kernelspec": {
   "display_name": "Python 3.9.6 64-bit",
   "language": "python",
   "name": "python3"
  },
  "language_info": {
   "codemirror_mode": {
    "name": "ipython",
    "version": 3
   },
   "file_extension": ".py",
   "mimetype": "text/x-python",
   "name": "python",
   "nbconvert_exporter": "python",
   "pygments_lexer": "ipython3",
   "version": "3.9.6"
  },
  "orig_nbformat": 4
 },
 "nbformat": 4,
 "nbformat_minor": 2
}
