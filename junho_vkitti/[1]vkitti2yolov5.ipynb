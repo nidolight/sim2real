{
 "cells": [
  {
   "cell_type": "code",
   "execution_count": 1,
   "metadata": {},
   "outputs": [],
   "source": [
    "import pandas as pd\n",
    "import os\n",
    "import itertools"
   ]
  },
  {
   "cell_type": "code",
   "execution_count": 2,
   "metadata": {},
   "outputs": [
    {
     "data": {
      "text/html": [
       "<div>\n",
       "<style scoped>\n",
       "    .dataframe tbody tr th:only-of-type {\n",
       "        vertical-align: middle;\n",
       "    }\n",
       "\n",
       "    .dataframe tbody tr th {\n",
       "        vertical-align: top;\n",
       "    }\n",
       "\n",
       "    .dataframe thead th {\n",
       "        text-align: right;\n",
       "    }\n",
       "</style>\n",
       "<table border=\"1\" class=\"dataframe\">\n",
       "  <thead>\n",
       "    <tr style=\"text-align: right;\">\n",
       "      <th></th>\n",
       "      <th>index</th>\n",
       "      <th>className</th>\n",
       "    </tr>\n",
       "  </thead>\n",
       "  <tbody>\n",
       "    <tr>\n",
       "      <th>0</th>\n",
       "      <td>0</td>\n",
       "      <td>Car</td>\n",
       "    </tr>\n",
       "    <tr>\n",
       "      <th>1</th>\n",
       "      <td>1</td>\n",
       "      <td>Car</td>\n",
       "    </tr>\n",
       "    <tr>\n",
       "      <th>2</th>\n",
       "      <td>10</td>\n",
       "      <td>Car</td>\n",
       "    </tr>\n",
       "    <tr>\n",
       "      <th>3</th>\n",
       "      <td>100</td>\n",
       "      <td>Car</td>\n",
       "    </tr>\n",
       "    <tr>\n",
       "      <th>4</th>\n",
       "      <td>101</td>\n",
       "      <td>Car</td>\n",
       "    </tr>\n",
       "    <tr>\n",
       "      <th>...</th>\n",
       "      <td>...</td>\n",
       "      <td>...</td>\n",
       "    </tr>\n",
       "    <tr>\n",
       "      <th>127</th>\n",
       "      <td>94</td>\n",
       "      <td>Car</td>\n",
       "    </tr>\n",
       "    <tr>\n",
       "      <th>128</th>\n",
       "      <td>95</td>\n",
       "      <td>Car</td>\n",
       "    </tr>\n",
       "    <tr>\n",
       "      <th>129</th>\n",
       "      <td>96</td>\n",
       "      <td>Car</td>\n",
       "    </tr>\n",
       "    <tr>\n",
       "      <th>130</th>\n",
       "      <td>97</td>\n",
       "      <td>Car</td>\n",
       "    </tr>\n",
       "    <tr>\n",
       "      <th>131</th>\n",
       "      <td>98</td>\n",
       "      <td>Car</td>\n",
       "    </tr>\n",
       "  </tbody>\n",
       "</table>\n",
       "<p>132 rows × 2 columns</p>\n",
       "</div>"
      ],
      "text/plain": [
       "     index className\n",
       "0        0       Car\n",
       "1        1       Car\n",
       "2       10       Car\n",
       "3      100       Car\n",
       "4      101       Car\n",
       "..     ...       ...\n",
       "127     94       Car\n",
       "128     95       Car\n",
       "129     96       Car\n",
       "130     97       Car\n",
       "131     98       Car\n",
       "\n",
       "[132 rows x 2 columns]"
      ]
     },
     "execution_count": 2,
     "metadata": {},
     "output_type": "execute_result"
    }
   ],
   "source": [
    "IMAGE_SIZE = (1242, 375)\n",
    "CAR_VAN_TRUCK = pd.read_csv(\"./CAR_VAN_TRUCK.csv\")\n",
    "CAR_VAN_TRUCK"
   ]
  },
  {
   "cell_type": "code",
   "execution_count": 3,
   "metadata": {},
   "outputs": [],
   "source": [
    "def make_index(path):\n",
    "    tmp = path.split('/')\n",
    "    sceneNo = tmp[-3][-2:]\n",
    "    sceneOpt = {'15-deg-left' : '00',\n",
    "                '15-deg-right' : '01',\n",
    "                '30-deg-left' : '02',\n",
    "                '30-deg-right' : '03',\n",
    "                'clone' : '04',\n",
    "                'fog' : '05',\n",
    "                'morning' : '06',\n",
    "                'overcast' : '07',\n",
    "                'rain' : '08',\n",
    "                'sunset' : '09'\n",
    "    }\n",
    "    return sceneNo + sceneOpt[tmp[-2]]"
   ]
  },
  {
   "cell_type": "code",
   "execution_count": 4,
   "metadata": {},
   "outputs": [],
   "source": [
    "def convert(bbox_path,save_path):\n",
    "    #파일 불러오기\n",
    "    df = pd.read_csv(bbox_path, sep=\" \", header=None)\n",
    "    df = df.drop([7, 8, 9, 10], axis=1)\n",
    "    df = df.drop([0], axis=0)\n",
    "\n",
    "    #kitti2yolo format 변환\n",
    "    df['x'] = ((df[3].astype(int) + df[4].astype(int))/2.0) * (1./IMAGE_SIZE[0])\n",
    "    df['y'] = ((df[5].astype(int) + df[6].astype(int))/2.0) * (1./IMAGE_SIZE[1])\n",
    "    df['w'] = (df[4].astype(int) - df[3].astype(int)) * (1./IMAGE_SIZE[0])\n",
    "    df['h'] = (df[6].astype(int) - df[5].astype(int)) * (1./IMAGE_SIZE[1])\n",
    "    df = df.drop([3, 4, 5, 6], axis=1)\n",
    "\n",
    "    #classNo 변환 (Car : 0, Van : 1, Truck : 2)\n",
    "    car_list = CAR_VAN_TRUCK[CAR_VAN_TRUCK['className'] == 'Car'].drop(['className'], axis=1).values.tolist()\n",
    "    van_list = CAR_VAN_TRUCK[CAR_VAN_TRUCK['className'] == 'Van'].drop(['className'], axis=1).values.tolist()\n",
    "    truck_list = CAR_VAN_TRUCK[CAR_VAN_TRUCK['className'] == 'Truck'].drop(['className'], axis=1).values.tolist()\n",
    "\n",
    "    car_list = list(itertools.chain(*car_list))\n",
    "    van_list = list(itertools.chain(*van_list))\n",
    "    truck_list = list(itertools.chain(*truck_list))\n",
    "\n",
    "    for i in car_list:\n",
    "        df.loc[df[2] == str(i),'classNo'] = '0'\n",
    "    for i in van_list:\n",
    "        df.loc[df[2] == str(i),'classNo'] = '1'\n",
    "    for i in truck_list:\n",
    "        df.loc[df[2] == str(i),'classNo'] = '2'\n",
    "    \n",
    "    df[2] = df['classNo']\n",
    "    df = df.drop(['classNo'], axis=1)\n",
    "\n",
    "    #프레임별 분리\n",
    "    frame = []\n",
    "    for i in range(int(df.loc[len(df)-1][0])+1):\n",
    "        frame.append(df[df[0] == str(i)])\n",
    "\n",
    "    #스테레오 카메라별 분리\n",
    "    camera0, camera1 = [], []\n",
    "    for df in frame:\n",
    "        camera0.append(df[df[1] == '0'].drop([0,1], axis=1))\n",
    "        camera1.append(df[df[1] == '1'].drop([0,1], axis=1))\n",
    "    \n",
    "    # df 저장\n",
    "    for i, frame in enumerate(camera0):\n",
    "        index = str(i).zfill(6)\n",
    "        frame.to_csv('{}{}00{}.txt'.format(save_path,make_index(bbox_path),index), \n",
    "                    sep=' ', header=False, index=False)\n",
    "    for i, frame in enumerate(camera1):\n",
    "        index = str(i).zfill(6)\n",
    "        frame.to_csv('{}{}01{}.txt'.format(save_path,make_index(bbox_path),index), \n",
    "                    sep=' ', header=False, index=False)\n",
    "\n",
    "\n",
    "# save_bbox_path = '/usr/src/datasets/vkitti2.0.3/labels/'\n",
    "# data_path = '/usr/src/datasets/rawVkitti/vkitti2.0.3bbox/Scene01/15-deg-left/bbox.txt'\n",
    "# convert(data_path,save_bbox_path)"
   ]
  },
  {
   "cell_type": "code",
   "execution_count": 10,
   "metadata": {},
   "outputs": [
    {
     "name": "stdout",
     "output_type": "stream",
     "text": [
      "['/usr/src/datasets/rawVkitti/vkitti2.0.3bbox/Scene20/clone/bbox.txt', '/usr/src/datasets/rawVkitti/vkitti2.0.3bbox/Scene02/clone/bbox.txt', '/usr/src/datasets/rawVkitti/vkitti2.0.3bbox/Scene06/clone/bbox.txt', '/usr/src/datasets/rawVkitti/vkitti2.0.3bbox/Scene18/clone/bbox.txt', '/usr/src/datasets/rawVkitti/vkitti2.0.3bbox/Scene01/clone/bbox.txt']\n",
      "bbox converted to yolov5 format\n"
     ]
    },
    {
     "ename": "ValueError",
     "evalue": "incomplete format",
     "output_type": "error",
     "traceback": [
      "\u001b[0;31m---------------------------------------------------------------------------\u001b[0m",
      "\u001b[0;31mValueError\u001b[0m                                Traceback (most recent call last)",
      "\u001b[1;32m/usr/src/junho/vkitti2yolov5.ipynb Cell 5'\u001b[0m in \u001b[0;36m<cell line: 18>\u001b[0;34m()\u001b[0m\n\u001b[1;32m     <a href='vscode-notebook-cell://attached-container%2B7b22636f6e7461696e65724e616d65223a222f6a756e686f5f796f6c6f7635222c2273657474696e6773223a7b22686f7374223a227373683a2f2f33352e3138382e37352e323431227d7d/usr/src/junho/vkitti2yolov5.ipynb#ch0000004vscode-remote?line=15'>16</a>\u001b[0m     convert(bbox_path, save_labels_path)\n\u001b[1;32m     <a href='vscode-notebook-cell://attached-container%2B7b22636f6e7461696e65724e616d65223a222f6a756e686f5f796f6c6f7635222c2273657474696e6773223a7b22686f7374223a227373683a2f2f33352e3138382e37352e323431227d7d/usr/src/junho/vkitti2yolov5.ipynb#ch0000004vscode-remote?line=16'>17</a>\u001b[0m \u001b[39mprint\u001b[39m(\u001b[39m'\u001b[39m\u001b[39mbbox converted to yolov5 format\u001b[39m\u001b[39m'\u001b[39m)\n\u001b[0;32m---> <a href='vscode-notebook-cell://attached-container%2B7b22636f6e7461696e65724e616d65223a222f6a756e686f5f796f6c6f7635222c2273657474696e6773223a7b22686f7374223a227373683a2f2f33352e3138382e37352e323431227d7d/usr/src/junho/vkitti2yolov5.ipynb#ch0000004vscode-remote?line=17'>18</a>\u001b[0m \u001b[39mprint\u001b[39m(\u001b[39m'\u001b[39;49m\u001b[39msaved at \u001b[39;49m\u001b[39m%\u001b[39;49m\u001b[39m'\u001b[39;49m \u001b[39m%\u001b[39;49m {save_labels_path})\n",
      "\u001b[0;31mValueError\u001b[0m: incomplete format"
     ]
    }
   ],
   "source": [
    "data_path = '/usr/src/datasets/rawVkitti/vkitti2.0.3rgb'\n",
    "save_labels_path = '/usr/src/datasets/vkitti2.0.3/labels/'# 심볼릭링크가 다 모여질 폴더\n",
    "\n",
    "vkitti_bbox_path = '/usr/src/datasets/rawVkitti/vkitti2.0.3bbox'\n",
    "\n",
    "bbox_list = []\n",
    "for (path, dir, files) in os.walk(vkitti_bbox_path):\n",
    "    for filename in files:\n",
    "        ext = os.path.basename(filename)   \n",
    "        pathOpt = path.split('/')\n",
    "        if ext == 'bbox.txt' and pathOpt[-1] == 'clone':\n",
    "            bbox_list.append(\"%s/%s\" % (path, filename))\n",
    "print(bbox_list)\n",
    "\n",
    "for bbox_path in bbox_list:\n",
    "    convert(bbox_path, save_labels_path)\n",
    "print('bbox converted to yolov5 format')\n",
    "print('saved at %s' % (save_labels_path))"
   ]
  },
  {
   "cell_type": "code",
   "execution_count": 11,
   "metadata": {},
   "outputs": [
    {
     "data": {
      "text/plain": [
       "'0100'"
      ]
     },
     "execution_count": 11,
     "metadata": {},
     "output_type": "execute_result"
    }
   ],
   "source": [
    "index = make_index(data_path)\n",
    "\n",
    "index"
   ]
  },
  {
   "cell_type": "code",
   "execution_count": 2,
   "metadata": {},
   "outputs": [],
   "source": [
    "# save_image_path = '/usr/src/datasets/vkitti2.0.3/images'\n",
    "\n",
    "# # 이미지 cp\n",
    "# cam0_path = '/usr/src/datasets/rawVkitti/vkitti2.0.3rgb/Scene01/15-deg-left/frames/rgb/Camera_0'\n",
    "# cam1_path = '/usr/src/datasets/rawVkitti/vkitti2.0.3rgb/Scene01/15-deg-left/frames/rgb/Camera_1'\n",
    "# label_path = '/usr/src/datasets/vkitti2.0.3/labels'\n",
    "\n",
    "# image_list_cam0 = os.listdir(cam0_path)\n",
    "# image_list_cam0.sort()\n",
    "# image_list_cam1 = os.listdir(cam1_path)\n",
    "# image_list_cam1.sort()\n",
    "\n",
    "# for i, image in enumerate(image_list_cam0):\n",
    "#     os.symlink(cam0_path+'/'+image, save_image_path+'/'+'0100'+'00'+str(i).zfill(6)+'.jpg')\n",
    "# for i, image in enumerate(image_list_cam1):\n",
    "#     os.symlink(cam1_path+'/'+image, save_image_path+'/'+'0100'+'01'+str(i).zfill(6)+'.jpg')"
   ]
  },
  {
   "cell_type": "code",
   "execution_count": null,
   "metadata": {},
   "outputs": [],
   "source": []
  }
 ],
 "metadata": {
  "interpreter": {
   "hash": "d4d1e4263499bec80672ea0156c357c1ee493ec2b1c70f0acce89fc37c4a6abe"
  },
  "kernelspec": {
   "display_name": "Python 3.8.13 ('base')",
   "language": "python",
   "name": "python3"
  },
  "language_info": {
   "codemirror_mode": {
    "name": "ipython",
    "version": 3
   },
   "file_extension": ".py",
   "mimetype": "text/x-python",
   "name": "python",
   "nbconvert_exporter": "python",
   "pygments_lexer": "ipython3",
   "version": "3.8.13"
  },
  "orig_nbformat": 4
 },
 "nbformat": 4,
 "nbformat_minor": 2
}
