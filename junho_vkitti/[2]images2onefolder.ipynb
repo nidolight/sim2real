{
 "cells": [
  {
   "cell_type": "code",
   "execution_count": 2,
   "metadata": {},
   "outputs": [],
   "source": [
    "import os"
   ]
  },
  {
   "cell_type": "code",
   "execution_count": 11,
   "metadata": {},
   "outputs": [
    {
     "ename": "FileExistsError",
     "evalue": "[Errno 17] File exists: '/usr/src/datasets/rawVkitti/vkitti2.0.3rgb/Scene01/clone/frames/rgb/Camera_0/rgb_00000.jpg' -> '/usr/src/datasets/vkitti2.0.3/images/images/010400000000.jpg'",
     "output_type": "error",
     "traceback": [
      "\u001b[0;31m---------------------------------------------------------------------------\u001b[0m",
      "\u001b[0;31mFileExistsError\u001b[0m                           Traceback (most recent call last)",
      "\u001b[1;32m/usr/src/junho/[2]images2onefolder.ipynb Cell 2'\u001b[0m in \u001b[0;36m<cell line: 43>\u001b[0;34m()\u001b[0m\n\u001b[1;32m     <a href='vscode-notebook-cell://attached-container%2B7b22636f6e7461696e65724e616d65223a222f6a756e686f5f796f6c6f7635222c2273657474696e6773223a7b22686f7374223a227373683a2f2f33352e3138382e37352e323431227d7d/usr/src/junho/%5B2%5Dimages2onefolder.ipynb#ch0000001vscode-remote?line=46'>47</a>\u001b[0m             image_list_cam \u001b[39m=\u001b[39m os\u001b[39m.\u001b[39mlistdir(cam_path)\n\u001b[1;32m     <a href='vscode-notebook-cell://attached-container%2B7b22636f6e7461696e65724e616d65223a222f6a756e686f5f796f6c6f7635222c2273657474696e6773223a7b22686f7374223a227373683a2f2f33352e3138382e37352e323431227d7d/usr/src/junho/%5B2%5Dimages2onefolder.ipynb#ch0000001vscode-remote?line=47'>48</a>\u001b[0m             image_list_cam\u001b[39m.\u001b[39msort()\n\u001b[0;32m---> <a href='vscode-notebook-cell://attached-container%2B7b22636f6e7461696e65724e616d65223a222f6a756e686f5f796f6c6f7635222c2273657474696e6773223a7b22686f7374223a227373683a2f2f33352e3138382e37352e323431227d7d/usr/src/junho/%5B2%5Dimages2onefolder.ipynb#ch0000001vscode-remote?line=48'>49</a>\u001b[0m             make_symlink(image_list_cam,cam_path,save_image_path)\n\u001b[1;32m     <a href='vscode-notebook-cell://attached-container%2B7b22636f6e7461696e65724e616d65223a222f6a756e686f5f796f6c6f7635222c2273657474696e6773223a7b22686f7374223a227373683a2f2f33352e3138382e37352e323431227d7d/usr/src/junho/%5B2%5Dimages2onefolder.ipynb#ch0000001vscode-remote?line=49'>50</a>\u001b[0m \u001b[39mprint\u001b[39m(\u001b[39m'\u001b[39m\u001b[39mimages symlink made\u001b[39m\u001b[39m'\u001b[39m)\n",
      "\u001b[1;32m/usr/src/junho/[2]images2onefolder.ipynb Cell 2'\u001b[0m in \u001b[0;36mmake_symlink\u001b[0;34m(image_list, cam_path, save_image_path)\u001b[0m\n\u001b[1;32m     <a href='vscode-notebook-cell://attached-container%2B7b22636f6e7461696e65724e616d65223a222f6a756e686f5f796f6c6f7635222c2273657474696e6773223a7b22686f7374223a227373683a2f2f33352e3138382e37352e323431227d7d/usr/src/junho/%5B2%5Dimages2onefolder.ipynb#ch0000001vscode-remote?line=19'>20</a>\u001b[0m \u001b[39mdef\u001b[39;00m \u001b[39mmake_symlink\u001b[39m(image_list,cam_path,save_image_path):\n\u001b[1;32m     <a href='vscode-notebook-cell://attached-container%2B7b22636f6e7461696e65724e616d65223a222f6a756e686f5f796f6c6f7635222c2273657474696e6773223a7b22686f7374223a227373683a2f2f33352e3138382e37352e323431227d7d/usr/src/junho/%5B2%5Dimages2onefolder.ipynb#ch0000001vscode-remote?line=20'>21</a>\u001b[0m     \u001b[39m#image_list == raw_dataset이미지파일 이름의 list\u001b[39;00m\n\u001b[1;32m     <a href='vscode-notebook-cell://attached-container%2B7b22636f6e7461696e65724e616d65223a222f6a756e686f5f796f6c6f7635222c2273657474696e6773223a7b22686f7374223a227373683a2f2f33352e3138382e37352e323431227d7d/usr/src/junho/%5B2%5Dimages2onefolder.ipynb#ch0000001vscode-remote?line=21'>22</a>\u001b[0m     \u001b[39m#cam_path == image_list 경로\u001b[39;00m\n\u001b[1;32m     <a href='vscode-notebook-cell://attached-container%2B7b22636f6e7461696e65724e616d65223a222f6a756e686f5f796f6c6f7635222c2273657474696e6773223a7b22686f7374223a227373683a2f2f33352e3138382e37352e323431227d7d/usr/src/junho/%5B2%5Dimages2onefolder.ipynb#ch0000001vscode-remote?line=22'>23</a>\u001b[0m     \u001b[39m#save_image_path == symbolic_link가 저장될 경로\u001b[39;00m\n\u001b[1;32m     <a href='vscode-notebook-cell://attached-container%2B7b22636f6e7461696e65724e616d65223a222f6a756e686f5f796f6c6f7635222c2273657474696e6773223a7b22686f7374223a227373683a2f2f33352e3138382e37352e323431227d7d/usr/src/junho/%5B2%5Dimages2onefolder.ipynb#ch0000001vscode-remote?line=23'>24</a>\u001b[0m     \u001b[39mfor\u001b[39;00m i,image \u001b[39min\u001b[39;00m \u001b[39menumerate\u001b[39m(image_list) :\n\u001b[0;32m---> <a href='vscode-notebook-cell://attached-container%2B7b22636f6e7461696e65724e616d65223a222f6a756e686f5f796f6c6f7635222c2273657474696e6773223a7b22686f7374223a227373683a2f2f33352e3138382e37352e323431227d7d/usr/src/junho/%5B2%5Dimages2onefolder.ipynb#ch0000001vscode-remote?line=24'>25</a>\u001b[0m         os\u001b[39m.\u001b[39;49msymlink(cam_path\u001b[39m+\u001b[39;49m\u001b[39m'\u001b[39;49m\u001b[39m/\u001b[39;49m\u001b[39m'\u001b[39;49m\u001b[39m+\u001b[39;49mimage, save_image_path\u001b[39m+\u001b[39;49m\u001b[39m'\u001b[39;49m\u001b[39m/\u001b[39;49m\u001b[39m'\u001b[39;49m\u001b[39m+\u001b[39;49mmake_index(cam_path)\u001b[39m+\u001b[39;49m\u001b[39mstr\u001b[39;49m(i)\u001b[39m.\u001b[39;49mzfill(\u001b[39m6\u001b[39;49m)\u001b[39m+\u001b[39;49m\u001b[39m'\u001b[39;49m\u001b[39m.jpg\u001b[39;49m\u001b[39m'\u001b[39;49m)\n",
      "\u001b[0;31mFileExistsError\u001b[0m: [Errno 17] File exists: '/usr/src/datasets/rawVkitti/vkitti2.0.3rgb/Scene01/clone/frames/rgb/Camera_0/rgb_00000.jpg' -> '/usr/src/datasets/vkitti2.0.3/images/images/010400000000.jpg'"
     ]
    }
   ],
   "source": [
    "def make_index(path): \n",
    "    #data_path를 이용한 파일 구분\n",
    "    #return은 secenNo+opt 문자열\n",
    "    tmp = path.split('/')\n",
    "    sceneNo = tmp[-5][-2:]\n",
    "    sceneOpt = {'15-deg-left' : '00',\n",
    "                '15-deg-right' : '01',\n",
    "                '30-deg-left' : '02',\n",
    "                '30-deg-right' : '03',\n",
    "                'clone' : '04',\n",
    "                'fog' : '05',\n",
    "                'morning' : '06',\n",
    "                'overcast' : '07',\n",
    "                'rain' : '08',\n",
    "                'sunset' : '09'\n",
    "    }\n",
    "    camNo = '0'+tmp[-1][-1]\n",
    "    return sceneNo + sceneOpt[tmp[-4]] + camNo\n",
    "\n",
    "def make_symlink(image_list,cam_path,save_image_path):\n",
    "    #image_list == raw_dataset이미지파일 이름의 list\n",
    "    #cam_path == image_list 경로\n",
    "    #save_image_path == symbolic_link가 저장될 경로\n",
    "    for i,image in enumerate(image_list) :\n",
    "        os.symlink(cam_path+'/'+image, save_image_path+'/'+make_index(cam_path)+str(i).zfill(6)+'.jpg')\n",
    "\n",
    "\n",
    "data_path = '/usr/src/datasets/rawVkitti/vkitti2.0.3rgb'\n",
    "#데이터 패스 => vkitti rgb 까지\n",
    "save_image_path = '/usr/src/datasets/vkitti2.0.3/images/images'# 심볼릭링크가 다 모여질 이미지 폴더\n",
    "scene_path_list = ['/Scene01','/Scene02','/Scene06','/Scene18','/Scene20'] \n",
    "opt_path_list = ['/15-deg-left/','/15-deg-right/','/30-deg-left/','/30-deg-right/',\n",
    "                    '/clone/','/fog/','/morning/','/overcast/','/rain/','/sunset/']\n",
    "camera_path_list = ['frames/rgb/Camera_0','frames/rgb/Camera_1']\n",
    "\n",
    "rawdataset_path_list =[] #rawdataset 경로 모음\n",
    "for scene_path in scene_path_list :\n",
    "    for situation_path in opt_path_list:\n",
    "        for camera_path in camera_path_list :\n",
    "            rawdataset_path_list.append(data_path+scene_path+situation_path+camera_path)\n",
    "\n",
    "\n",
    "for rawdataset_path in rawdataset_path_list : #rawdataset 경로를 따라 scene+opt+enumerate로 파일을 구분\n",
    "        pathOpt = rawdataset_path.split('/')\n",
    "        if pathOpt[-4] == 'clone' and pathOpt[-1] == 'Camera_0':\n",
    "            cam_path = rawdataset_path\n",
    "            image_list_cam = os.listdir(cam_path)\n",
    "            image_list_cam.sort()\n",
    "            make_symlink(image_list_cam,cam_path,save_image_path)\n",
    "print('images symlink made')\n"
   ]
  }
 ],
 "metadata": {
  "interpreter": {
   "hash": "d4d1e4263499bec80672ea0156c357c1ee493ec2b1c70f0acce89fc37c4a6abe"
  },
  "kernelspec": {
   "display_name": "Python 3.8.13 ('base')",
   "language": "python",
   "name": "python3"
  },
  "language_info": {
   "codemirror_mode": {
    "name": "ipython",
    "version": 3
   },
   "file_extension": ".py",
   "mimetype": "text/x-python",
   "name": "python",
   "nbconvert_exporter": "python",
   "pygments_lexer": "ipython3",
   "version": "3.8.13"
  },
  "orig_nbformat": 4
 },
 "nbformat": 4,
 "nbformat_minor": 2
}
