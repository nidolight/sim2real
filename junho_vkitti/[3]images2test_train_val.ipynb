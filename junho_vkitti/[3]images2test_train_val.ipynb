{
 "cells": [
  {
   "cell_type": "code",
   "execution_count": 3,
   "metadata": {},
   "outputs": [],
   "source": [
    "import os\n",
    "import splitfolders\n",
    "import shutil\n",
    "\n",
    "vkitti_path = '/usr/src/datasets/vkitti2.0.3/'"
   ]
  },
  {
   "cell_type": "code",
   "execution_count": 4,
   "metadata": {},
   "outputs": [],
   "source": [
    "# # tmp로 이미지 옮기기\n",
    "image_path = vkitti_path+'images/'\n",
    "\n",
    "# for filename in os.listdir(image_path):\n",
    "#     if filename == 'tmp': continue\n",
    "#     shutil.move(image_path + filename, image_path+'images/'+filename)"
   ]
  },
  {
   "cell_type": "code",
   "execution_count": 7,
   "metadata": {},
   "outputs": [
    {
     "name": "stderr",
     "output_type": "stream",
     "text": [
      "Copying files: 42520 files [01:20, 531.36 files/s] \n"
     ]
    }
   ],
   "source": [
    "#split train test val\n",
    "splitfolders.ratio(image_path, output=vkitti_path, seed=2022, ratio=(.8, 0.1,0.1))"
   ]
  },
  {
   "cell_type": "code",
   "execution_count": 7,
   "metadata": {},
   "outputs": [],
   "source": [
    "## labels directory 만들어주기\n",
    "pass_list = ['train/a', 'test/b', 'val/c',]\n",
    "\n",
    "for path in pass_list:\n",
    "    os.mkdir(vkitti_path+path)"
   ]
  },
  {
   "cell_type": "code",
   "execution_count": 14,
   "metadata": {},
   "outputs": [],
   "source": [
    "# txt 2 train test val mv\n",
    "\n",
    "label_list = os.listdir(vkitti_path+'labels')\n",
    "\n",
    "#train\n",
    "path_list = os.listdir(vkitti_path+'test/images')\n",
    "\n",
    "for filename in path_list:\n",
    "    if filename[:-4]+'.txt' in label_list:\n",
    "        os.symlink(vkitti_path+'labels/'+filename[:-4]+'.txt',\n",
    "                    vkitti_path+'test/labels/'+filename[:-4]+'.txt')\n",
    "\n"
   ]
  },
  {
   "cell_type": "code",
   "execution_count": 15,
   "metadata": {},
   "outputs": [],
   "source": [
    "#test\n",
    "path_list = os.listdir(vkitti_path+'train/images')\n",
    "\n",
    "for filename in path_list:\n",
    "    if filename[:-4]+'.txt' in label_list:\n",
    "        os.symlink(vkitti_path+'labels/'+filename[:-4]+'.txt',\n",
    "                    vkitti_path+'train/labels/'+filename[:-4]+'.txt')"
   ]
  },
  {
   "cell_type": "code",
   "execution_count": 16,
   "metadata": {},
   "outputs": [],
   "source": [
    "#val\n",
    "path_list = os.listdir(vkitti_path+'val/images')\n",
    "\n",
    "for filename in path_list:\n",
    "    if filename[:-4]+'.txt' in label_list:\n",
    "        os.symlink(vkitti_path+'labels/'+filename[:-4]+'.txt',\n",
    "                    vkitti_path+'val/labels/'+filename[:-4]+'.txt')"
   ]
  }
 ],
 "metadata": {
  "interpreter": {
   "hash": "d4d1e4263499bec80672ea0156c357c1ee493ec2b1c70f0acce89fc37c4a6abe"
  },
  "kernelspec": {
   "display_name": "Python 3.8.13 ('base')",
   "language": "python",
   "name": "python3"
  },
  "language_info": {
   "codemirror_mode": {
    "name": "ipython",
    "version": 3
   },
   "file_extension": ".py",
   "mimetype": "text/x-python",
   "name": "python",
   "nbconvert_exporter": "python",
   "pygments_lexer": "ipython3",
   "version": "3.8.13"
  },
  "orig_nbformat": 4
 },
 "nbformat": 4,
 "nbformat_minor": 2
}
